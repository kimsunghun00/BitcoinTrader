{
 "cells": [
  {
   "cell_type": "code",
   "execution_count": 1,
   "metadata": {},
   "outputs": [],
   "source": [
    "import pyupbit\n",
    "import time\n",
    "import datetime\n",
    "import numpy as np\n",
    "import pandas as pd\n",
    "import torch\n",
    "import warnings\n",
    "warnings.filterwarnings(action='ignore')\n",
    "\n",
    "from utils import add_variables\n",
    "\n",
    "access_key = \"xoAxfIrwkWwwFa9jaJuIJ1x4udHWWxxzRLCNdj3F\"\n",
    "secret_key = \"VWnu7NfOucIThpsQdSDZPnRE3cZCJyne1Kzxx5yJ\""
   ]
  },
  {
   "cell_type": "code",
   "execution_count": 2,
   "metadata": {},
   "outputs": [
    {
     "name": "stdout",
     "output_type": "stream",
     "text": [
      "잔액 : 57945원\n"
     ]
    }
   ],
   "source": [
    "upbit = pyupbit.Upbit(access_key, secret_key)\n",
    "krw_balance = int(upbit.get_balance(\"KRW\"))\n",
    "print(f\"잔액 : {krw_balance}원\") # 원화 잔고 조회"
   ]
  },
  {
   "cell_type": "code",
   "execution_count": 4,
   "metadata": {
    "scrolled": true
   },
   "outputs": [
    {
     "data": {
      "text/plain": [
       "Model(\n",
       "  (gru): GRU(22, 256, num_layers=3, batch_first=True, dropout=0.2, bidirectional=True)\n",
       "  (dense1): Linear(in_features=512, out_features=256, bias=True)\n",
       "  (bn1): BatchNorm1d(256, eps=1e-05, momentum=0.1, affine=True, track_running_stats=True)\n",
       "  (dropout1): Dropout(p=0.3, inplace=False)\n",
       "  (dense2): Linear(in_features=256, out_features=256, bias=True)\n",
       "  (bn2): BatchNorm1d(256, eps=1e-05, momentum=0.1, affine=True, track_running_stats=True)\n",
       "  (dropout2): Dropout(p=0.3, inplace=False)\n",
       "  (out): Linear(in_features=256, out_features=1, bias=False)\n",
       ")"
      ]
     },
     "execution_count": 4,
     "metadata": {},
     "output_type": "execute_result"
    }
   ],
   "source": [
    "from model import Model\n",
    "    \n",
    "model = Model(input_size = 22, recurrent_hidden_size = 256, dense_hidden_size = 256, output_size = 1)\n",
    "device = torch.device('cpu')\n",
    "model.load_state_dict(torch.load('model.pt', map_location=device))\n",
    "model.eval()"
   ]
  },
  {
   "cell_type": "code",
   "execution_count": 6,
   "metadata": {
    "scrolled": false
   },
   "outputs": [
    {
     "name": "stdout",
     "output_type": "stream",
     "text": [
      "하락장\n",
      "5분 후 예상 수익률 : -1.329%\n",
      "현재시간: 2021-05-26 07:47:51, 현재가: 9365.0, 평균단가: 9440.00, 수익률: -0.794%, 손익: -418원\n",
      "기대 수익률 : 1.883%\n",
      "보유상태: True, 동작상태: True\n",
      "\n"
     ]
    },
    {
     "ename": "KeyboardInterrupt",
     "evalue": "",
     "output_type": "error",
     "traceback": [
      "\u001b[0;31m---------------------------------------------------------------------------\u001b[0m",
      "\u001b[0;31mKeyboardInterrupt\u001b[0m                         Traceback (most recent call last)",
      "\u001b[0;32m<ipython-input-6-f5f755065c97>\u001b[0m in \u001b[0;36m<module>\u001b[0;34m\u001b[0m\n\u001b[1;32m      5\u001b[0m                  \u001b[0mbaseline\u001b[0m \u001b[0;34m=\u001b[0m \u001b[0;36m0.02\u001b[0m\u001b[0;34m,\u001b[0m \u001b[0mlossbreak\u001b[0m \u001b[0;34m=\u001b[0m \u001b[0;32mFalse\u001b[0m\u001b[0;34m,\u001b[0m\u001b[0;34m\u001b[0m\u001b[0;34m\u001b[0m\u001b[0m\n\u001b[1;32m      6\u001b[0m                  hour = 4, stoploss = -0.03)\n\u001b[0;32m----> 7\u001b[0;31m \u001b[0mbot\u001b[0m\u001b[0;34m.\u001b[0m\u001b[0mtrade\u001b[0m\u001b[0;34m(\u001b[0m\u001b[0mkrw\u001b[0m \u001b[0;34m=\u001b[0m \u001b[0;36m50000\u001b[0m\u001b[0;34m)\u001b[0m\u001b[0;34m\u001b[0m\u001b[0;34m\u001b[0m\u001b[0m\n\u001b[0m",
      "\u001b[0;32m~/Desktop/bitcoin2/trader.py\u001b[0m in \u001b[0;36mtrade\u001b[0;34m(self, krw)\u001b[0m\n\u001b[1;32m    153\u001b[0m             \u001b[0mprint\u001b[0m\u001b[0;34m(\u001b[0m\u001b[0;34mf\"보유상태: {hold}, 동작상태: {op_mode}\"\u001b[0m\u001b[0;34m)\u001b[0m\u001b[0;34m\u001b[0m\u001b[0;34m\u001b[0m\u001b[0m\n\u001b[1;32m    154\u001b[0m             \u001b[0mprint\u001b[0m\u001b[0;34m(\u001b[0m\u001b[0;34m)\u001b[0m\u001b[0;34m\u001b[0m\u001b[0;34m\u001b[0m\u001b[0m\n\u001b[0;32m--> 155\u001b[0;31m             \u001b[0mtime\u001b[0m\u001b[0;34m.\u001b[0m\u001b[0msleep\u001b[0m\u001b[0;34m(\u001b[0m\u001b[0;36m1\u001b[0m\u001b[0;34m)\u001b[0m\u001b[0;34m\u001b[0m\u001b[0;34m\u001b[0m\u001b[0m\n\u001b[0m\u001b[1;32m    156\u001b[0m \u001b[0;34m\u001b[0m\u001b[0m\n\u001b[1;32m    157\u001b[0m \u001b[0;34m\u001b[0m\u001b[0m\n",
      "\u001b[0;31mKeyboardInterrupt\u001b[0m: "
     ]
    }
   ],
   "source": [
    "from trader import TradingBot\n",
    "\n",
    "ticker = \"KRW-SBD\"\n",
    "bot = TradingBot(upbit, model, ticker = ticker, interval = \"minute1\", window_size = 20,\n",
    "                 baseline = 0.02, lossbreak = False,\n",
    "                 hour = 4, stoploss = -0.03)\n",
    "bot.trade(krw = 50000)"
   ]
  },
  {
   "cell_type": "code",
   "execution_count": null,
   "metadata": {
    "scrolled": false
   },
   "outputs": [],
   "source": [
    "buy_sell_result = bot.get_trading_data()\n",
    "print(buy_sell_result)\n",
    "print()\n",
    "print('총 수익: ', buy_sell_result['profit and loss'].sum(), '원')"
   ]
  },
  {
   "cell_type": "code",
   "execution_count": 6,
   "metadata": {},
   "outputs": [],
   "source": [
    "import pandas as pd\n",
    "import datetime\n",
    "import time\n",
    "import pyupbit\n",
    "import matplotlib.pyplot as plt\n",
    "import mplfinance as mpf\n",
    "\n",
    "from utils import *\n",
    "%matplotlib inline\n",
    "\n",
    "class TradingChart:\n",
    "    def __init__(self, dataframe, ticker, interval, sell_window = 3, buy_window = 5):\n",
    "        \n",
    "        \"\"\"\n",
    "        \n",
    "        datrafrme : dataframe of buy and sell result\n",
    "        ticker(str) : \n",
    "        interval : minute1, minute3, minute5, minute10, minute15, minute30, hour, day\n",
    "        frm(str) :\n",
    "    \n",
    "        \"\"\"\n",
    "        \n",
    "        self.dataframe = dataframe\n",
    "        self.ticker = ticker\n",
    "        self.interval = interval\n",
    "        self.sell_window = sell_window\n",
    "        self.buy_window = buy_window\n",
    "    \n",
    "    def plot(self):\n",
    "        data = self.get_result_dataframe(self.dataframe)\n",
    "       \n",
    "        plt.figure(figsize = (20, 10))\n",
    "        plt.plot(data.index, data['close'], color = 'k', label = 'Close Price')\n",
    "        plt.plot(data.index, data['sell_ma'], color = 'c', label = 'Sell Line')\n",
    "        plt.plot(data.index, data['buy_ma'], color = 'm', label = 'Buy Line')\n",
    "\n",
    "\n",
    "        # plot 'buy' signals\n",
    "        plt.plot(data[data['action'] == \"매수\"].index, data['close'][data['action'] == \"매수\"],\n",
    "                 '^', markersize = 15, color = 'r', label = 'buy')\n",
    "\n",
    "\n",
    "        # plot 'sell' signals\n",
    "        plt.plot(data[data['action'] == \"매도\"].index, data['close'][data['action'] == \"매도\"],\n",
    "                 'v', markersize = 15, color = 'b', label = 'sell')\n",
    "        \n",
    "        # plot 'lost' signals\n",
    "        plt.plot(data[data['action'] == \"손절\"].index, data['close'][data['action'] == \"손절\"],\n",
    "                 'o', markersize = 15, color = 'g', label = 'lost')\n",
    "        \n",
    "        \n",
    "        \n",
    "        plt.title('{} Trading Char'.format(self.ticker.split('-')[1]))\n",
    "        plt.legend()\n",
    "        plt.grid()\n",
    "        plt.show()\n",
    "        \n",
    "    def ohlcv_chart(self):\n",
    "        data = self.get_result_dataframe(self.dataframe)\n",
    "        data = data[['open', 'high', 'low', 'close', 'volume']]\n",
    "        \n",
    "        kwargs = dict(title = '{} ohlcv Chart'.format(self.ticker.split('-')[1]), type = 'candle',\n",
    "                      mav = (2, 4, 6), volume = True, ylabel = 'ohlc candles')\n",
    "        mc = mpf.make_marketcolors(up = 'r', down = 'b', inherit = True)\n",
    "        s = mpf.make_mpf_style(marketcolors = mc)\n",
    "        mpf.plot(data, **kwargs, style = s)\n",
    "        \n",
    "    def candle_chart(self):\n",
    "        data = self.get_result_dataframe(self.dataframe)\n",
    "        data = data[['open', 'high', 'low', 'close', 'volume']]\n",
    "        \n",
    "        mpf.plot(data, title = '{} Candle Chart'.format(self.ticker.split('-')[1]), type = 'candle')\n",
    "        \n",
    "    def get_result_dataframe(self, dataframe):\n",
    "        df1 = dataframe\n",
    "        df2 = get_ohlcv_processed(df1, ticker = self.ticker, interval = self.interval,\n",
    "                       sell_window = self.sell_window, buy_window = self.buy_window)\n",
    "        \n",
    "        data = df2.merge(df1, left_index = True, right_index = True, how = 'outer')\n",
    "        \n",
    "        return data"
   ]
  },
  {
   "cell_type": "code",
   "execution_count": null,
   "metadata": {},
   "outputs": [],
   "source": []
  }
 ],
 "metadata": {
  "kernelspec": {
   "display_name": "pytorch",
   "language": "python",
   "name": "pytorch"
  },
  "language_info": {
   "codemirror_mode": {
    "name": "ipython",
    "version": 3
   },
   "file_extension": ".py",
   "mimetype": "text/x-python",
   "name": "python",
   "nbconvert_exporter": "python",
   "pygments_lexer": "ipython3",
   "version": "3.8.5"
  }
 },
 "nbformat": 4,
 "nbformat_minor": 4
}
