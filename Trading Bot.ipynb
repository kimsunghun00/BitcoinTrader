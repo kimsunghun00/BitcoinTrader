{
 "cells": [
  {
   "cell_type": "code",
   "execution_count": 1,
   "metadata": {},
   "outputs": [],
   "source": [
    "import pyupbit\n",
    "import time\n",
    "import datetime\n",
    "import numpy as np\n",
    "import pandas as pd\n",
    "import torch\n",
    "import warnings\n",
    "warnings.filterwarnings(action='ignore')\n",
    "\n",
    "from utils import add_variables\n",
    "\n",
    "access_key = \"RAg8GlgHpDAjC7ajk7gWD*****\"\n",
    "secret_key = \"G2xCA0EtGbZPG7xNeucutN1*******\""
   ]
  },
  {
   "cell_type": "code",
   "execution_count": 2,
   "metadata": {},
   "outputs": [
    {
     "name": "stdout",
     "output_type": "stream",
     "text": [
      "잔액 : 0원\n"
     ]
    }
   ],
   "source": [
    "upbit = pyupbit.Upbit(access_key, secret_key)\n",
    "krw_balance = int(upbit.get_balance(\"KRW\"))\n",
    "print(f\"잔액 : {krw_balance}원\") # 원화 잔고 조회"
   ]
  },
  {
   "cell_type": "code",
   "execution_count": 3,
   "metadata": {
    "scrolled": true
   },
   "outputs": [
    {
     "data": {
      "text/plain": [
       "Model(\n",
       "  (gru): GRU(23, 128, num_layers=2, batch_first=True, bidirectional=True)\n",
       "  (dense1): Linear(in_features=256, out_features=256, bias=True)\n",
       "  (dense2): Linear(in_features=256, out_features=128, bias=True)\n",
       "  (out): Linear(in_features=128, out_features=3, bias=False)\n",
       ")"
      ]
     },
     "execution_count": 3,
     "metadata": {},
     "output_type": "execute_result"
    }
   ],
   "source": [
    "from model import Model\n",
    "    \n",
    "model = Model(input_size = 23, recurrent_hidden_size = 128, dense_hidden_size = 256, output_size = 3)\n",
    "device = torch.device('cpu')\n",
    "model.load_state_dict(torch.load('model.pt', map_location=device))\n",
    "model.eval()"
   ]
  },
  {
   "cell_type": "code",
   "execution_count": 4,
   "metadata": {
    "scrolled": false
   },
   "outputs": [
    {
     "name": "stdout",
     "output_type": "stream",
     "text": [
      "상승장\n",
      "bb : 94.12, rsi : 73.57\n",
      "%K : 99.07, %D : 91.99, cross : 1\n",
      "\n",
      "5분 후 예상 저가 수익률 : 0.309%\n",
      "5분 후 예상 종가 수익률 : -0.071%\n",
      "5분 후 예상 고가 수익률 : 0.319%\n",
      "\n",
      "현재시간: 2021-08-24 18:36:57, 현재가: 57777000.0, 평균단가: 0.00, 수익률: 0.000%, 손익: 0.0원\n",
      "보유상태: False, 동작상태: True\n",
      "\n"
     ]
    },
    {
     "ename": "KeyboardInterrupt",
     "evalue": "",
     "output_type": "error",
     "traceback": [
      "\u001b[1;31m---------------------------------------------------------------------------\u001b[0m",
      "\u001b[1;31mKeyboardInterrupt\u001b[0m                         Traceback (most recent call last)",
      "\u001b[1;32m<ipython-input-4-9d3c7deb25af>\u001b[0m in \u001b[0;36m<module>\u001b[1;34m\u001b[0m\n\u001b[0;32m      5\u001b[0m                  \u001b[0mbaseline\u001b[0m \u001b[1;33m=\u001b[0m \u001b[1;36m0.02\u001b[0m\u001b[1;33m,\u001b[0m \u001b[0mlossbreak\u001b[0m \u001b[1;33m=\u001b[0m \u001b[1;32mFalse\u001b[0m\u001b[1;33m,\u001b[0m\u001b[1;33m\u001b[0m\u001b[1;33m\u001b[0m\u001b[0m\n\u001b[0;32m      6\u001b[0m                  hour = 4, stoploss = -0.03)\n\u001b[1;32m----> 7\u001b[1;33m \u001b[0mbot\u001b[0m\u001b[1;33m.\u001b[0m\u001b[0mtrade\u001b[0m\u001b[1;33m(\u001b[0m\u001b[0mkrw\u001b[0m \u001b[1;33m=\u001b[0m \u001b[1;36m50000\u001b[0m\u001b[1;33m)\u001b[0m\u001b[1;33m\u001b[0m\u001b[1;33m\u001b[0m\u001b[0m\n\u001b[0m",
      "\u001b[1;32m~\\Desktop\\bitcoin4\\trader.py\u001b[0m in \u001b[0;36mtrade\u001b[1;34m(self, krw)\u001b[0m\n\u001b[0;32m    155\u001b[0m             \u001b[0mprint\u001b[0m\u001b[1;33m(\u001b[0m\u001b[1;34mf\"보유상태: {hold}, 동작상태: {op_mode}\"\u001b[0m\u001b[1;33m)\u001b[0m\u001b[1;33m\u001b[0m\u001b[1;33m\u001b[0m\u001b[0m\n\u001b[0;32m    156\u001b[0m             \u001b[0mprint\u001b[0m\u001b[1;33m(\u001b[0m\u001b[1;33m)\u001b[0m\u001b[1;33m\u001b[0m\u001b[1;33m\u001b[0m\u001b[0m\n\u001b[1;32m--> 157\u001b[1;33m             \u001b[0mtime\u001b[0m\u001b[1;33m.\u001b[0m\u001b[0msleep\u001b[0m\u001b[1;33m(\u001b[0m\u001b[1;36m1\u001b[0m\u001b[1;33m)\u001b[0m\u001b[1;33m\u001b[0m\u001b[1;33m\u001b[0m\u001b[0m\n\u001b[0m\u001b[0;32m    158\u001b[0m \u001b[1;33m\u001b[0m\u001b[0m\n\u001b[0;32m    159\u001b[0m             \u001b[1;32mif\u001b[0m \u001b[0mtime\u001b[0m\u001b[1;33m.\u001b[0m\u001b[0mtime\u001b[0m\u001b[1;33m(\u001b[0m\u001b[1;33m)\u001b[0m \u001b[1;33m>\u001b[0m \u001b[0mt_end\u001b[0m \u001b[1;32mand\u001b[0m \u001b[0mhold\u001b[0m \u001b[1;32mis\u001b[0m \u001b[1;32mFalse\u001b[0m\u001b[1;33m:\u001b[0m\u001b[1;33m\u001b[0m\u001b[1;33m\u001b[0m\u001b[0m\n",
      "\u001b[1;31mKeyboardInterrupt\u001b[0m: "
     ]
    }
   ],
   "source": [
    "from trader import TradingBot\n",
    "\n",
    "ticker = \"KRW-BTC\"\n",
    "bot = TradingBot(upbit, model, ticker = ticker, interval = \"minute5\", window_size = 20,\n",
    "                 baseline = 0.02, lossbreak = False,\n",
    "                 hour = 4, stoploss = -0.03)\n",
    "bot.trade(krw = 50000)"
   ]
  },
  {
   "cell_type": "code",
   "execution_count": null,
   "metadata": {
    "scrolled": false
   },
   "outputs": [],
   "source": [
    "buy_sell_result = bot.get_trading_data()\n",
    "print(buy_sell_result)\n",
    "print()\n",
    "print('총 수익: ', buy_sell_result['profit and loss'].sum(), '원')"
   ]
  },
  {
   "cell_type": "code",
   "execution_count": null,
   "metadata": {},
   "outputs": [],
   "source": [
    "import pandas as pd\n",
    "import datetime\n",
    "import time\n",
    "import pyupbit\n",
    "import matplotlib.pyplot as plt\n",
    "import mplfinance as mpf\n",
    "\n",
    "from utils import *\n",
    "%matplotlib inline\n",
    "\n",
    "class TradingChart:\n",
    "    def __init__(self, dataframe, ticker, interval, sell_window = 3, buy_window = 5):\n",
    "        \n",
    "        \"\"\"\n",
    "        \n",
    "        datrafrme : dataframe of buy and sell result\n",
    "        ticker(str) : \n",
    "        interval : minute1, minute3, minute5, minute10, minute15, minute30, hour, day\n",
    "        frm(str) :\n",
    "    \n",
    "        \"\"\"\n",
    "        \n",
    "        self.dataframe = dataframe\n",
    "        self.ticker = ticker\n",
    "        self.interval = interval\n",
    "        self.sell_window = sell_window\n",
    "        self.buy_window = buy_window\n",
    "    \n",
    "    def plot(self):\n",
    "        data = self.get_result_dataframe(self.dataframe)\n",
    "       \n",
    "        plt.figure(figsize = (20, 10))\n",
    "        plt.plot(data.index, data['close'], color = 'k', label = 'Close Price')\n",
    "        plt.plot(data.index, data['sell_ma'], color = 'c', label = 'Sell Line')\n",
    "        plt.plot(data.index, data['buy_ma'], color = 'm', label = 'Buy Line')\n",
    "\n",
    "\n",
    "        # plot 'buy' signals\n",
    "        plt.plot(data[data['action'] == \"매수\"].index, data['close'][data['action'] == \"매수\"],\n",
    "                 '^', markersize = 15, color = 'r', label = 'buy')\n",
    "\n",
    "\n",
    "        # plot 'sell' signals\n",
    "        plt.plot(data[data['action'] == \"매도\"].index, data['close'][data['action'] == \"매도\"],\n",
    "                 'v', markersize = 15, color = 'b', label = 'sell')\n",
    "        \n",
    "        # plot 'lost' signals\n",
    "        plt.plot(data[data['action'] == \"손절\"].index, data['close'][data['action'] == \"손절\"],\n",
    "                 'o', markersize = 15, color = 'g', label = 'lost')\n",
    "        \n",
    "        \n",
    "        \n",
    "        plt.title('{} Trading Char'.format(self.ticker.split('-')[1]))\n",
    "        plt.legend()\n",
    "        plt.grid()\n",
    "        plt.show()\n",
    "        \n",
    "    def ohlcv_chart(self):\n",
    "        data = self.get_result_dataframe(self.dataframe)\n",
    "        data = data[['open', 'high', 'low', 'close', 'volume']]\n",
    "        \n",
    "        kwargs = dict(title = '{} ohlcv Chart'.format(self.ticker.split('-')[1]), type = 'candle',\n",
    "                      mav = (2, 4, 6), volume = True, ylabel = 'ohlc candles')\n",
    "        mc = mpf.make_marketcolors(up = 'r', down = 'b', inherit = True)\n",
    "        s = mpf.make_mpf_style(marketcolors = mc)\n",
    "        mpf.plot(data, **kwargs, style = s)\n",
    "        \n",
    "    def candle_chart(self):\n",
    "        data = self.get_result_dataframe(self.dataframe)\n",
    "        data = data[['open', 'high', 'low', 'close', 'volume']]\n",
    "        \n",
    "        mpf.plot(data, title = '{} Candle Chart'.format(self.ticker.split('-')[1]), type = 'candle')\n",
    "        \n",
    "    def get_result_dataframe(self, dataframe):\n",
    "        df1 = dataframe\n",
    "        df2 = get_ohlcv_processed(df1, ticker = self.ticker, interval = self.interval,\n",
    "                       sell_window = self.sell_window, buy_window = self.buy_window)\n",
    "        \n",
    "        data = df2.merge(df1, left_index = True, right_index = True, how = 'outer')\n",
    "        \n",
    "        return data"
   ]
  },
  {
   "cell_type": "code",
   "execution_count": null,
   "metadata": {},
   "outputs": [],
   "source": []
  }
 ],
 "metadata": {
  "kernelspec": {
   "display_name": "PyTorch",
   "language": "python",
   "name": "pytorch"
  },
  "language_info": {
   "codemirror_mode": {
    "name": "ipython",
    "version": 3
   },
   "file_extension": ".py",
   "mimetype": "text/x-python",
   "name": "python",
   "nbconvert_exporter": "python",
   "pygments_lexer": "ipython3",
   "version": "3.7.10"
  }
 },
 "nbformat": 4,
 "nbformat_minor": 4
}
