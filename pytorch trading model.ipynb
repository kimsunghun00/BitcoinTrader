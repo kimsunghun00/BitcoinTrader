{
 "cells": [
  {
   "cell_type": "code",
   "execution_count": 1,
   "metadata": {},
   "outputs": [
    {
     "name": "stderr",
     "output_type": "stream",
     "text": [
      "100%|████████████████████████████████████████████████████████████████████████████████████| 1/1 [00:00<00:00,  1.46it/s]\n"
     ]
    }
   ],
   "source": [
    "import torch\n",
    "from torch import nn, optim\n",
    "from torch.utils.data import DataLoader, TensorDataset\n",
    "from torch.nn import functional as F\n",
    "import numpy as np\n",
    "import tqdm\n",
    "\n",
    "from dataset import Dataset\n",
    "ds = Dataset(file_path='./data', window_size = 20, test_size = 1000)"
   ]
  },
  {
   "cell_type": "code",
   "execution_count": 2,
   "metadata": {
    "scrolled": true
   },
   "outputs": [
    {
     "name": "stderr",
     "output_type": "stream",
     "text": [
      "100%|████████████████████████████████████████████████████████████████████████████████████| 1/1 [00:14<00:00, 14.06s/it]\n"
     ]
    },
    {
     "name": "stdout",
     "output_type": "stream",
     "text": [
      "['KRW-BTC'] are combined as training set\n",
      "completed\n",
      "torch.Size([66448, 20, 23]) torch.Size([66448, 3])\n",
      "torch.Size([980, 20, 23]) torch.Size([980, 3])\n"
     ]
    }
   ],
   "source": [
    "(train_features, train_labels), (test_features, test_labels) = ds.get_dataset()\n",
    "print(train_features.shape, train_labels.shape)\n",
    "print(test_features.shape, test_labels.shape)"
   ]
  },
  {
   "cell_type": "code",
   "execution_count": 3,
   "metadata": {},
   "outputs": [
    {
     "name": "stdout",
     "output_type": "stream",
     "text": [
      "torch.Size([59803, 20, 23]) torch.Size([59803, 3])\n",
      "torch.Size([6645, 20, 23]) torch.Size([6645, 3])\n"
     ]
    }
   ],
   "source": [
    "from sklearn.model_selection import train_test_split\n",
    "train_features, val_features, train_labels, val_labels = train_test_split(train_features, train_labels, test_size = 0.1)\n",
    "print(train_features.shape, train_labels.shape)\n",
    "print(val_features.shape, val_labels.shape)"
   ]
  },
  {
   "cell_type": "markdown",
   "metadata": {},
   "source": [
    "## Dataset"
   ]
  },
  {
   "cell_type": "code",
   "execution_count": 4,
   "metadata": {},
   "outputs": [],
   "source": [
    "train_dataset = TensorDataset(train_features, train_labels)\n",
    "val_dataset = TensorDataset(val_features, val_labels)\n",
    "test_dataset = TensorDataset(test_features, test_labels)"
   ]
  },
  {
   "cell_type": "markdown",
   "metadata": {},
   "source": [
    "## DataLoader"
   ]
  },
  {
   "cell_type": "code",
   "execution_count": 5,
   "metadata": {},
   "outputs": [],
   "source": [
    "BATCH_SIZE = 256\n",
    "train_loader = DataLoader(train_dataset, batch_size = BATCH_SIZE, shuffle = True)\n",
    "val_loader = DataLoader(val_dataset, batch_size = BATCH_SIZE, shuffle = False)\n",
    "test_loader = DataLoader(test_dataset, batch_size = BATCH_SIZE, shuffle = False)"
   ]
  },
  {
   "cell_type": "markdown",
   "metadata": {},
   "source": [
    "## Model"
   ]
  },
  {
   "cell_type": "code",
   "execution_count": 6,
   "metadata": {},
   "outputs": [],
   "source": [
    "from model import Model\n",
    "model = Model(input_size = train_features.shape[2], recurrent_hidden_size = 128, dense_hidden_size = 256, output_size = 3)"
   ]
  },
  {
   "cell_type": "markdown",
   "metadata": {},
   "source": [
    "## Train"
   ]
  },
  {
   "cell_type": "code",
   "execution_count": 7,
   "metadata": {
    "scrolled": false
   },
   "outputs": [
    {
     "name": "stdout",
     "output_type": "stream",
     "text": [
      "cuda:0\n"
     ]
    },
    {
     "data": {
      "text/plain": [
       "Model(\n",
       "  (gru): GRU(23, 128, num_layers=2, batch_first=True, bidirectional=True)\n",
       "  (dense1): Linear(in_features=256, out_features=256, bias=True)\n",
       "  (dense2): Linear(in_features=256, out_features=128, bias=True)\n",
       "  (out): Linear(in_features=128, out_features=3, bias=False)\n",
       ")"
      ]
     },
     "execution_count": 7,
     "metadata": {},
     "output_type": "execute_result"
    }
   ],
   "source": [
    "from torch.optim import Adam\n",
    "from train import Trainer\n",
    "\n",
    "device = 'cuda:0' if torch.cuda.is_available() else 'cpu'\n",
    "print(device)\n",
    "model.to(device)"
   ]
  },
  {
   "cell_type": "code",
   "execution_count": 8,
   "metadata": {
    "scrolled": true
   },
   "outputs": [
    {
     "name": "stderr",
     "output_type": "stream",
     "text": [
      "100%|████████████████████████████████████████████████████████████████████████████████| 234/234 [00:02<00:00, 89.01it/s]\n",
      "  4%|███▏                                                                              | 9/234 [00:00<00:02, 89.03it/s]"
     ]
    },
    {
     "name": "stdout",
     "output_type": "stream",
     "text": [
      "epoch: 1/150, train_loss: 0.00002436, val_loss: 0.00000654\n"
     ]
    },
    {
     "name": "stderr",
     "output_type": "stream",
     "text": [
      "100%|████████████████████████████████████████████████████████████████████████████████| 234/234 [00:02<00:00, 98.56it/s]\n",
      "  4%|███▍                                                                             | 10/234 [00:00<00:02, 94.26it/s]"
     ]
    },
    {
     "name": "stdout",
     "output_type": "stream",
     "text": [
      "epoch: 2/150, train_loss: 0.00000586, val_loss: 0.00000569\n"
     ]
    },
    {
     "name": "stderr",
     "output_type": "stream",
     "text": [
      "100%|████████████████████████████████████████████████████████████████████████████████| 234/234 [00:02<00:00, 94.19it/s]\n",
      "  4%|███▏                                                                              | 9/234 [00:00<00:02, 84.83it/s]"
     ]
    },
    {
     "name": "stdout",
     "output_type": "stream",
     "text": [
      "epoch: 3/150, train_loss: 0.00000535, val_loss: 0.00000534\n"
     ]
    },
    {
     "name": "stderr",
     "output_type": "stream",
     "text": [
      "100%|████████████████████████████████████████████████████████████████████████████████| 234/234 [00:02<00:00, 94.35it/s]\n",
      "  4%|███▍                                                                             | 10/234 [00:00<00:02, 97.00it/s]"
     ]
    },
    {
     "name": "stdout",
     "output_type": "stream",
     "text": [
      "epoch: 4/150, train_loss: 0.00000506, val_loss: 0.00000512\n"
     ]
    },
    {
     "name": "stderr",
     "output_type": "stream",
     "text": [
      "100%|████████████████████████████████████████████████████████████████████████████████| 234/234 [00:02<00:00, 99.23it/s]\n",
      "  4%|███▍                                                                             | 10/234 [00:00<00:02, 94.25it/s]"
     ]
    },
    {
     "name": "stdout",
     "output_type": "stream",
     "text": [
      "epoch: 5/150, train_loss: 0.00000488, val_loss: 0.00000497\n"
     ]
    },
    {
     "name": "stderr",
     "output_type": "stream",
     "text": [
      "100%|████████████████████████████████████████████████████████████████████████████████| 234/234 [00:02<00:00, 97.49it/s]\n",
      "  4%|███▍                                                                             | 10/234 [00:00<00:02, 97.95it/s]"
     ]
    },
    {
     "name": "stdout",
     "output_type": "stream",
     "text": [
      "epoch: 6/150, train_loss: 0.00000474, val_loss: 0.00000485\n"
     ]
    },
    {
     "name": "stderr",
     "output_type": "stream",
     "text": [
      "100%|████████████████████████████████████████████████████████████████████████████████| 234/234 [00:02<00:00, 99.65it/s]\n",
      "  4%|███▍                                                                             | 10/234 [00:00<00:02, 95.15it/s]"
     ]
    },
    {
     "name": "stdout",
     "output_type": "stream",
     "text": [
      "epoch: 7/150, train_loss: 0.00000462, val_loss: 0.00000474\n"
     ]
    },
    {
     "name": "stderr",
     "output_type": "stream",
     "text": [
      "100%|████████████████████████████████████████████████████████████████████████████████| 234/234 [00:02<00:00, 97.74it/s]\n",
      "  9%|██████▉                                                                          | 20/234 [00:00<00:02, 99.09it/s]"
     ]
    },
    {
     "name": "stdout",
     "output_type": "stream",
     "text": [
      "epoch: 8/150, train_loss: 0.00000452, val_loss: 0.00000464\n"
     ]
    },
    {
     "name": "stderr",
     "output_type": "stream",
     "text": [
      "100%|████████████████████████████████████████████████████████████████████████████████| 234/234 [00:02<00:00, 98.94it/s]\n",
      "  4%|███▍                                                                             | 10/234 [00:00<00:02, 98.92it/s]"
     ]
    },
    {
     "name": "stdout",
     "output_type": "stream",
     "text": [
      "epoch: 9/150, train_loss: 0.00000443, val_loss: 0.00000456\n"
     ]
    },
    {
     "name": "stderr",
     "output_type": "stream",
     "text": [
      "100%|████████████████████████████████████████████████████████████████████████████████| 234/234 [00:02<00:00, 97.49it/s]\n",
      "  4%|███▍                                                                             | 10/234 [00:00<00:02, 97.95it/s]"
     ]
    },
    {
     "name": "stdout",
     "output_type": "stream",
     "text": [
      "epoch: 10/150, train_loss: 0.00000436, val_loss: 0.00000451\n"
     ]
    },
    {
     "name": "stderr",
     "output_type": "stream",
     "text": [
      "100%|████████████████████████████████████████████████████████████████████████████████| 234/234 [00:02<00:00, 99.70it/s]\n",
      "  4%|███▍                                                                             | 10/234 [00:00<00:02, 95.15it/s]"
     ]
    },
    {
     "name": "stdout",
     "output_type": "stream",
     "text": [
      "epoch: 11/150, train_loss: 0.00000428, val_loss: 0.00000443\n"
     ]
    },
    {
     "name": "stderr",
     "output_type": "stream",
     "text": [
      "100%|████████████████████████████████████████████████████████████████████████████████| 234/234 [00:02<00:00, 98.73it/s]\n",
      "  4%|███▍                                                                             | 10/234 [00:00<00:02, 95.15it/s]"
     ]
    },
    {
     "name": "stdout",
     "output_type": "stream",
     "text": [
      "epoch: 12/150, train_loss: 0.00000422, val_loss: 0.00000441\n"
     ]
    },
    {
     "name": "stderr",
     "output_type": "stream",
     "text": [
      "100%|████████████████████████████████████████████████████████████████████████████████| 234/234 [00:02<00:00, 95.93it/s]\n",
      "  4%|███▍                                                                             | 10/234 [00:00<00:02, 94.25it/s]"
     ]
    },
    {
     "name": "stdout",
     "output_type": "stream",
     "text": [
      "epoch: 13/150, train_loss: 0.00000416, val_loss: 0.00000434\n"
     ]
    },
    {
     "name": "stderr",
     "output_type": "stream",
     "text": [
      "100%|████████████████████████████████████████████████████████████████████████████████| 234/234 [00:02<00:00, 99.15it/s]\n",
      "  4%|███▍                                                                             | 10/234 [00:00<00:02, 94.25it/s]"
     ]
    },
    {
     "name": "stdout",
     "output_type": "stream",
     "text": [
      "epoch: 14/150, train_loss: 0.00000411, val_loss: 0.00000428\n"
     ]
    },
    {
     "name": "stderr",
     "output_type": "stream",
     "text": [
      "100%|████████████████████████████████████████████████████████████████████████████████| 234/234 [00:02<00:00, 96.85it/s]\n",
      "  4%|███▍                                                                             | 10/234 [00:00<00:02, 96.06it/s]"
     ]
    },
    {
     "name": "stdout",
     "output_type": "stream",
     "text": [
      "epoch: 15/150, train_loss: 0.00000406, val_loss: 0.00000424\n"
     ]
    },
    {
     "name": "stderr",
     "output_type": "stream",
     "text": [
      "100%|████████████████████████████████████████████████████████████████████████████████| 234/234 [00:02<00:00, 99.27it/s]\n",
      "  4%|███▍                                                                             | 10/234 [00:00<00:02, 96.07it/s]"
     ]
    },
    {
     "name": "stdout",
     "output_type": "stream",
     "text": [
      "epoch: 16/150, train_loss: 0.00000401, val_loss: 0.00000417\n"
     ]
    },
    {
     "name": "stderr",
     "output_type": "stream",
     "text": [
      "100%|████████████████████████████████████████████████████████████████████████████████| 234/234 [00:02<00:00, 97.53it/s]\n",
      "  4%|███▍                                                                             | 10/234 [00:00<00:02, 91.66it/s]"
     ]
    },
    {
     "name": "stdout",
     "output_type": "stream",
     "text": [
      "epoch: 17/150, train_loss: 0.00000397, val_loss: 0.00000413\n"
     ]
    },
    {
     "name": "stderr",
     "output_type": "stream",
     "text": [
      "100%|████████████████████████████████████████████████████████████████████████████████| 234/234 [00:02<00:00, 96.37it/s]\n",
      "  4%|███▍                                                                             | 10/234 [00:00<00:02, 91.66it/s]"
     ]
    },
    {
     "name": "stdout",
     "output_type": "stream",
     "text": [
      "epoch: 18/150, train_loss: 0.00000392, val_loss: 0.00000408\n"
     ]
    },
    {
     "name": "stderr",
     "output_type": "stream",
     "text": [
      "100%|████████████████████████████████████████████████████████████████████████████████| 234/234 [00:02<00:00, 96.77it/s]\n",
      "  4%|███▏                                                                              | 9/234 [00:00<00:02, 88.16it/s]"
     ]
    },
    {
     "name": "stdout",
     "output_type": "stream",
     "text": [
      "epoch: 19/150, train_loss: 0.00000388, val_loss: 0.00000405\n"
     ]
    },
    {
     "name": "stderr",
     "output_type": "stream",
     "text": [
      "100%|████████████████████████████████████████████████████████████████████████████████| 234/234 [00:02<00:00, 94.50it/s]\n",
      "  4%|███▍                                                                             | 10/234 [00:00<00:02, 92.51it/s]"
     ]
    },
    {
     "name": "stdout",
     "output_type": "stream",
     "text": [
      "epoch: 20/150, train_loss: 0.00000385, val_loss: 0.00000402\n"
     ]
    },
    {
     "name": "stderr",
     "output_type": "stream",
     "text": [
      "100%|████████████████████████████████████████████████████████████████████████████████| 234/234 [00:02<00:00, 94.16it/s]\n",
      "  3%|██▊                                                                               | 8/234 [00:00<00:02, 78.36it/s]"
     ]
    },
    {
     "name": "stdout",
     "output_type": "stream",
     "text": [
      "epoch: 21/150, train_loss: 0.00000381, val_loss: 0.00000398\n"
     ]
    },
    {
     "name": "stderr",
     "output_type": "stream",
     "text": [
      "100%|████████████████████████████████████████████████████████████████████████████████| 234/234 [00:02<00:00, 91.18it/s]\n",
      "  4%|███▏                                                                              | 9/234 [00:00<00:02, 81.74it/s]"
     ]
    },
    {
     "name": "stdout",
     "output_type": "stream",
     "text": [
      "epoch: 22/150, train_loss: 0.00000378, val_loss: 0.00000396\n"
     ]
    },
    {
     "name": "stderr",
     "output_type": "stream",
     "text": [
      "100%|████████████████████████████████████████████████████████████████████████████████| 234/234 [00:02<00:00, 95.74it/s]\n",
      "  4%|███▍                                                                             | 10/234 [00:00<00:02, 99.91it/s]"
     ]
    },
    {
     "name": "stdout",
     "output_type": "stream",
     "text": [
      "epoch: 23/150, train_loss: 0.00000375, val_loss: 0.00000393\n"
     ]
    },
    {
     "name": "stderr",
     "output_type": "stream",
     "text": [
      "100%|████████████████████████████████████████████████████████████████████████████████| 234/234 [00:02<00:00, 98.15it/s]\n",
      "  4%|███▍                                                                             | 10/234 [00:00<00:02, 96.07it/s]"
     ]
    },
    {
     "name": "stdout",
     "output_type": "stream",
     "text": [
      "epoch: 24/150, train_loss: 0.00000372, val_loss: 0.00000390\n"
     ]
    },
    {
     "name": "stderr",
     "output_type": "stream",
     "text": [
      "100%|████████████████████████████████████████████████████████████████████████████████| 234/234 [00:02<00:00, 99.57it/s]\n",
      "  4%|███▍                                                                             | 10/234 [00:00<00:02, 95.15it/s]"
     ]
    },
    {
     "name": "stdout",
     "output_type": "stream",
     "text": [
      "epoch: 25/150, train_loss: 0.00000368, val_loss: 0.00000389\n"
     ]
    },
    {
     "name": "stderr",
     "output_type": "stream",
     "text": [
      "100%|████████████████████████████████████████████████████████████████████████████████| 234/234 [00:02<00:00, 98.23it/s]\n",
      "  4%|███▍                                                                             | 10/234 [00:00<00:02, 95.15it/s]"
     ]
    },
    {
     "name": "stdout",
     "output_type": "stream",
     "text": [
      "epoch: 26/150, train_loss: 0.00000366, val_loss: 0.00000386\n"
     ]
    },
    {
     "name": "stderr",
     "output_type": "stream",
     "text": [
      "100%|████████████████████████████████████████████████████████████████████████████████| 234/234 [00:02<00:00, 99.31it/s]\n",
      "  4%|███▏                                                                              | 9/234 [00:00<00:02, 86.46it/s]"
     ]
    },
    {
     "name": "stdout",
     "output_type": "stream",
     "text": [
      "epoch: 27/150, train_loss: 0.00000363, val_loss: 0.00000381\n"
     ]
    },
    {
     "name": "stderr",
     "output_type": "stream",
     "text": [
      "100%|████████████████████████████████████████████████████████████████████████████████| 234/234 [00:02<00:00, 96.89it/s]\n",
      "  4%|███▍                                                                             | 10/234 [00:00<00:02, 95.15it/s]"
     ]
    },
    {
     "name": "stdout",
     "output_type": "stream",
     "text": [
      "epoch: 28/150, train_loss: 0.00000361, val_loss: 0.00000379\n"
     ]
    },
    {
     "name": "stderr",
     "output_type": "stream",
     "text": [
      "100%|████████████████████████████████████████████████████████████████████████████████| 234/234 [00:02<00:00, 98.81it/s]\n",
      "  4%|███▏                                                                              | 9/234 [00:00<00:02, 83.26it/s]"
     ]
    },
    {
     "name": "stdout",
     "output_type": "stream",
     "text": [
      "epoch: 29/150, train_loss: 0.00000358, val_loss: 0.00000375\n"
     ]
    },
    {
     "name": "stderr",
     "output_type": "stream",
     "text": [
      "100%|████████████████████████████████████████████████████████████████████████████████| 234/234 [00:02<00:00, 94.96it/s]\n",
      "  3%|██▊                                                                               | 8/234 [00:00<00:02, 79.13it/s]"
     ]
    },
    {
     "name": "stdout",
     "output_type": "stream",
     "text": [
      "epoch: 30/150, train_loss: 0.00000355, val_loss: 0.00000376\n"
     ]
    },
    {
     "name": "stderr",
     "output_type": "stream",
     "text": [
      "100%|████████████████████████████████████████████████████████████████████████████████| 234/234 [00:02<00:00, 96.29it/s]\n",
      "  4%|███▍                                                                             | 10/234 [00:00<00:02, 95.15it/s]"
     ]
    },
    {
     "name": "stdout",
     "output_type": "stream",
     "text": [
      "epoch: 31/150, train_loss: 0.00000353, val_loss: 0.00000374\n"
     ]
    },
    {
     "name": "stderr",
     "output_type": "stream",
     "text": [
      "100%|████████████████████████████████████████████████████████████████████████████████| 234/234 [00:02<00:00, 99.02it/s]\n",
      "  4%|███▏                                                                              | 9/234 [00:00<00:02, 85.64it/s]"
     ]
    },
    {
     "name": "stdout",
     "output_type": "stream",
     "text": [
      "epoch: 32/150, train_loss: 0.00000350, val_loss: 0.00000371\n"
     ]
    },
    {
     "name": "stderr",
     "output_type": "stream",
     "text": [
      "100%|████████████████████████████████████████████████████████████████████████████████| 234/234 [00:02<00:00, 95.62it/s]\n",
      "  4%|███▏                                                                              | 9/234 [00:00<00:02, 87.30it/s]"
     ]
    },
    {
     "name": "stdout",
     "output_type": "stream",
     "text": [
      "epoch: 33/150, train_loss: 0.00000348, val_loss: 0.00000367\n"
     ]
    },
    {
     "name": "stderr",
     "output_type": "stream",
     "text": [
      "100%|████████████████████████████████████████████████████████████████████████████████| 234/234 [00:02<00:00, 95.07it/s]\n",
      "  4%|███▏                                                                              | 9/234 [00:00<00:02, 81.74it/s]"
     ]
    },
    {
     "name": "stdout",
     "output_type": "stream",
     "text": [
      "epoch: 34/150, train_loss: 0.00000346, val_loss: 0.00000364\n"
     ]
    },
    {
     "name": "stderr",
     "output_type": "stream",
     "text": [
      "100%|████████████████████████████████████████████████████████████████████████████████| 234/234 [00:02<00:00, 91.57it/s]\n",
      "  4%|███▍                                                                             | 10/234 [00:00<00:02, 92.51it/s]"
     ]
    },
    {
     "name": "stdout",
     "output_type": "stream",
     "text": [
      "epoch: 35/150, train_loss: 0.00000344, val_loss: 0.00000363\n"
     ]
    },
    {
     "name": "stderr",
     "output_type": "stream",
     "text": [
      "100%|████████████████████████████████████████████████████████████████████████████████| 234/234 [00:02<00:00, 95.78it/s]\n",
      "  4%|███▏                                                                              | 9/234 [00:00<00:02, 83.26it/s]"
     ]
    },
    {
     "name": "stdout",
     "output_type": "stream",
     "text": [
      "epoch: 36/150, train_loss: 0.00000342, val_loss: 0.00000361\n"
     ]
    },
    {
     "name": "stderr",
     "output_type": "stream",
     "text": [
      "100%|████████████████████████████████████████████████████████████████████████████████| 234/234 [00:02<00:00, 98.15it/s]\n",
      "  4%|███▏                                                                              | 9/234 [00:00<00:02, 88.16it/s]"
     ]
    },
    {
     "name": "stdout",
     "output_type": "stream",
     "text": [
      "epoch: 37/150, train_loss: 0.00000340, val_loss: 0.00000358\n"
     ]
    },
    {
     "name": "stderr",
     "output_type": "stream",
     "text": [
      "100%|████████████████████████████████████████████████████████████████████████████████| 234/234 [00:02<00:00, 96.93it/s]\n",
      "  4%|███▍                                                                             | 10/234 [00:00<00:02, 93.37it/s]"
     ]
    },
    {
     "name": "stdout",
     "output_type": "stream",
     "text": [
      "epoch: 38/150, train_loss: 0.00000337, val_loss: 0.00000358\n"
     ]
    },
    {
     "name": "stderr",
     "output_type": "stream",
     "text": [
      "100%|████████████████████████████████████████████████████████████████████████████████| 234/234 [00:02<00:00, 97.94it/s]\n",
      "  4%|███▍                                                                             | 10/234 [00:00<00:02, 96.07it/s]"
     ]
    },
    {
     "name": "stdout",
     "output_type": "stream",
     "text": [
      "epoch: 39/150, train_loss: 0.00000336, val_loss: 0.00000354\n"
     ]
    },
    {
     "name": "stderr",
     "output_type": "stream",
     "text": [
      "100%|████████████████████████████████████████████████████████████████████████████████| 234/234 [00:02<00:00, 96.05it/s]\n",
      "  4%|███▍                                                                             | 10/234 [00:00<00:02, 95.15it/s]"
     ]
    },
    {
     "name": "stdout",
     "output_type": "stream",
     "text": [
      "epoch: 40/150, train_loss: 0.00000334, val_loss: 0.00000354\n"
     ]
    },
    {
     "name": "stderr",
     "output_type": "stream",
     "text": [
      "100%|████████████████████████████████████████████████████████████████████████████████| 234/234 [00:02<00:00, 95.38it/s]\n",
      "  4%|███▏                                                                              | 9/234 [00:00<00:02, 87.30it/s]"
     ]
    },
    {
     "name": "stdout",
     "output_type": "stream",
     "text": [
      "epoch: 41/150, train_loss: 0.00000331, val_loss: 0.00000350\n"
     ]
    },
    {
     "name": "stderr",
     "output_type": "stream",
     "text": [
      "100%|████████████████████████████████████████████████████████████████████████████████| 234/234 [00:02<00:00, 92.30it/s]\n",
      "  8%|██████▏                                                                          | 18/234 [00:00<00:02, 88.87it/s]"
     ]
    },
    {
     "name": "stdout",
     "output_type": "stream",
     "text": [
      "epoch: 42/150, train_loss: 0.00000330, val_loss: 0.00000351\n"
     ]
    },
    {
     "name": "stderr",
     "output_type": "stream",
     "text": [
      "100%|████████████████████████████████████████████████████████████████████████████████| 234/234 [00:02<00:00, 95.00it/s]\n",
      "  9%|██████▉                                                                          | 20/234 [00:00<00:02, 95.63it/s]"
     ]
    },
    {
     "name": "stdout",
     "output_type": "stream",
     "text": [
      "epoch: 43/150, train_loss: 0.00000328, val_loss: 0.00000348\n"
     ]
    },
    {
     "name": "stderr",
     "output_type": "stream",
     "text": [
      "100%|████████████████████████████████████████████████████████████████████████████████| 234/234 [00:02<00:00, 90.65it/s]\n",
      "  4%|███▏                                                                              | 9/234 [00:00<00:02, 85.64it/s]"
     ]
    },
    {
     "name": "stdout",
     "output_type": "stream",
     "text": [
      "epoch: 44/150, train_loss: 0.00000326, val_loss: 0.00000344\n"
     ]
    },
    {
     "name": "stderr",
     "output_type": "stream",
     "text": [
      "100%|████████████████████████████████████████████████████████████████████████████████| 234/234 [00:02<00:00, 93.66it/s]\n",
      "  4%|███▍                                                                             | 10/234 [00:00<00:02, 95.15it/s]"
     ]
    },
    {
     "name": "stdout",
     "output_type": "stream",
     "text": [
      "epoch: 45/150, train_loss: 0.00000324, val_loss: 0.00000346\n"
     ]
    },
    {
     "name": "stderr",
     "output_type": "stream",
     "text": [
      "100%|████████████████████████████████████████████████████████████████████████████████| 234/234 [00:02<00:00, 98.40it/s]\n",
      "  4%|███▏                                                                              | 9/234 [00:00<00:02, 89.92it/s]"
     ]
    },
    {
     "name": "stdout",
     "output_type": "stream",
     "text": [
      "epoch: 46/150, train_loss: 0.00000323, val_loss: 0.00000342\n"
     ]
    },
    {
     "name": "stderr",
     "output_type": "stream",
     "text": [
      "100%|████████████████████████████████████████████████████████████████████████████████| 234/234 [00:02<00:00, 95.50it/s]\n",
      "  3%|██▊                                                                               | 8/234 [00:00<00:02, 77.60it/s]"
     ]
    },
    {
     "name": "stdout",
     "output_type": "stream",
     "text": [
      "epoch: 47/150, train_loss: 0.00000321, val_loss: 0.00000343\n"
     ]
    },
    {
     "name": "stderr",
     "output_type": "stream",
     "text": [
      "100%|████████████████████████████████████████████████████████████████████████████████| 234/234 [00:02<00:00, 92.10it/s]\n",
      "  4%|███▏                                                                              | 9/234 [00:00<00:02, 89.03it/s]"
     ]
    },
    {
     "name": "stdout",
     "output_type": "stream",
     "text": [
      "epoch: 48/150, train_loss: 0.00000319, val_loss: 0.00000337\n"
     ]
    },
    {
     "name": "stderr",
     "output_type": "stream",
     "text": [
      "100%|████████████████████████████████████████████████████████████████████████████████| 234/234 [00:02<00:00, 96.21it/s]\n",
      "  4%|███▍                                                                             | 10/234 [00:00<00:02, 95.15it/s]"
     ]
    },
    {
     "name": "stdout",
     "output_type": "stream",
     "text": [
      "epoch: 49/150, train_loss: 0.00000318, val_loss: 0.00000337\n"
     ]
    },
    {
     "name": "stderr",
     "output_type": "stream",
     "text": [
      "100%|████████████████████████████████████████████████████████████████████████████████| 234/234 [00:02<00:00, 97.82it/s]\n",
      "  4%|███▍                                                                             | 10/234 [00:00<00:02, 97.95it/s]"
     ]
    },
    {
     "name": "stdout",
     "output_type": "stream",
     "text": [
      "epoch: 50/150, train_loss: 0.00000316, val_loss: 0.00000333\n"
     ]
    },
    {
     "name": "stderr",
     "output_type": "stream",
     "text": [
      "100%|████████████████████████████████████████████████████████████████████████████████| 234/234 [00:02<00:00, 95.78it/s]\n",
      "  4%|███▍                                                                             | 10/234 [00:00<00:02, 95.15it/s]"
     ]
    },
    {
     "name": "stdout",
     "output_type": "stream",
     "text": [
      "epoch: 51/150, train_loss: 0.00000314, val_loss: 0.00000335\n"
     ]
    },
    {
     "name": "stderr",
     "output_type": "stream",
     "text": [
      "100%|████████████████████████████████████████████████████████████████████████████████| 234/234 [00:02<00:00, 97.94it/s]\n",
      "  4%|███▍                                                                             | 10/234 [00:00<00:02, 96.07it/s]"
     ]
    },
    {
     "name": "stdout",
     "output_type": "stream",
     "text": [
      "epoch: 52/150, train_loss: 0.00000312, val_loss: 0.00000332\n"
     ]
    },
    {
     "name": "stderr",
     "output_type": "stream",
     "text": [
      "100%|████████████████████████████████████████████████████████████████████████████████| 234/234 [00:02<00:00, 97.78it/s]\n",
      "  4%|███▍                                                                             | 10/234 [00:00<00:02, 94.25it/s]"
     ]
    },
    {
     "name": "stdout",
     "output_type": "stream",
     "text": [
      "epoch: 53/150, train_loss: 0.00000311, val_loss: 0.00000330\n"
     ]
    },
    {
     "name": "stderr",
     "output_type": "stream",
     "text": [
      "100%|████████████████████████████████████████████████████████████████████████████████| 234/234 [00:02<00:00, 97.17it/s]\n",
      "  4%|███▏                                                                              | 9/234 [00:00<00:02, 84.04it/s]"
     ]
    },
    {
     "name": "stdout",
     "output_type": "stream",
     "text": [
      "epoch: 54/150, train_loss: 0.00000309, val_loss: 0.00000327\n"
     ]
    },
    {
     "name": "stderr",
     "output_type": "stream",
     "text": [
      "100%|████████████████████████████████████████████████████████████████████████████████| 234/234 [00:02<00:00, 96.53it/s]\n",
      "  4%|███▏                                                                              | 9/234 [00:00<00:02, 88.16it/s]"
     ]
    },
    {
     "name": "stdout",
     "output_type": "stream",
     "text": [
      "epoch: 55/150, train_loss: 0.00000307, val_loss: 0.00000326\n"
     ]
    },
    {
     "name": "stderr",
     "output_type": "stream",
     "text": [
      "100%|████████████████████████████████████████████████████████████████████████████████| 234/234 [00:02<00:00, 95.89it/s]\n",
      "  4%|███▍                                                                             | 10/234 [00:00<00:02, 94.25it/s]"
     ]
    },
    {
     "name": "stdout",
     "output_type": "stream",
     "text": [
      "epoch: 56/150, train_loss: 0.00000306, val_loss: 0.00000326\n"
     ]
    },
    {
     "name": "stderr",
     "output_type": "stream",
     "text": [
      "100%|████████████████████████████████████████████████████████████████████████████████| 234/234 [00:02<00:00, 94.57it/s]\n",
      "  4%|███▏                                                                              | 9/234 [00:00<00:02, 87.30it/s]"
     ]
    },
    {
     "name": "stdout",
     "output_type": "stream",
     "text": [
      "epoch: 57/150, train_loss: 0.00000304, val_loss: 0.00000323\n"
     ]
    },
    {
     "name": "stderr",
     "output_type": "stream",
     "text": [
      "100%|████████████████████████████████████████████████████████████████████████████████| 234/234 [00:02<00:00, 95.35it/s]\n",
      "  9%|██████▉                                                                          | 20/234 [00:00<00:02, 95.31it/s]"
     ]
    },
    {
     "name": "stdout",
     "output_type": "stream",
     "text": [
      "epoch: 58/150, train_loss: 0.00000302, val_loss: 0.00000322\n"
     ]
    },
    {
     "name": "stderr",
     "output_type": "stream",
     "text": [
      "100%|████████████████████████████████████████████████████████████████████████████████| 234/234 [00:02<00:00, 97.57it/s]\n",
      "  4%|███▍                                                                             | 10/234 [00:00<00:02, 96.07it/s]"
     ]
    },
    {
     "name": "stdout",
     "output_type": "stream",
     "text": [
      "epoch: 59/150, train_loss: 0.00000301, val_loss: 0.00000320\n"
     ]
    },
    {
     "name": "stderr",
     "output_type": "stream",
     "text": [
      "100%|████████████████████████████████████████████████████████████████████████████████| 234/234 [00:02<00:00, 94.78it/s]\n",
      "  4%|███▍                                                                             | 10/234 [00:00<00:02, 93.37it/s]"
     ]
    },
    {
     "name": "stdout",
     "output_type": "stream",
     "text": [
      "epoch: 60/150, train_loss: 0.00000299, val_loss: 0.00000318\n"
     ]
    },
    {
     "name": "stderr",
     "output_type": "stream",
     "text": [
      "100%|████████████████████████████████████████████████████████████████████████████████| 234/234 [00:02<00:00, 94.42it/s]\n",
      "  4%|███▍                                                                             | 10/234 [00:00<00:02, 94.25it/s]"
     ]
    },
    {
     "name": "stdout",
     "output_type": "stream",
     "text": [
      "epoch: 61/150, train_loss: 0.00000297, val_loss: 0.00000315\n"
     ]
    },
    {
     "name": "stderr",
     "output_type": "stream",
     "text": [
      "100%|████████████████████████████████████████████████████████████████████████████████| 234/234 [00:02<00:00, 97.82it/s]\n",
      "  3%|██▊                                                                               | 8/234 [00:00<00:02, 76.12it/s]"
     ]
    },
    {
     "name": "stdout",
     "output_type": "stream",
     "text": [
      "epoch: 62/150, train_loss: 0.00000297, val_loss: 0.00000315\n"
     ]
    },
    {
     "name": "stderr",
     "output_type": "stream",
     "text": [
      "100%|████████████████████████████████████████████████████████████████████████████████| 234/234 [00:02<00:00, 92.96it/s]\n",
      "  4%|███▏                                                                              | 9/234 [00:00<00:02, 81.01it/s]"
     ]
    },
    {
     "name": "stdout",
     "output_type": "stream",
     "text": [
      "epoch: 63/150, train_loss: 0.00000294, val_loss: 0.00000312\n"
     ]
    },
    {
     "name": "stderr",
     "output_type": "stream",
     "text": [
      "100%|████████████████████████████████████████████████████████████████████████████████| 234/234 [00:02<00:00, 93.48it/s]\n",
      "  8%|██████▏                                                                          | 18/234 [00:00<00:02, 88.10it/s]"
     ]
    },
    {
     "name": "stdout",
     "output_type": "stream",
     "text": [
      "epoch: 64/150, train_loss: 0.00000292, val_loss: 0.00000311\n"
     ]
    },
    {
     "name": "stderr",
     "output_type": "stream",
     "text": [
      "100%|████████████████████████████████████████████████████████████████████████████████| 234/234 [00:02<00:00, 93.63it/s]\n",
      "  8%|██████▏                                                                          | 18/234 [00:00<00:02, 86.07it/s]"
     ]
    },
    {
     "name": "stdout",
     "output_type": "stream",
     "text": [
      "epoch: 65/150, train_loss: 0.00000291, val_loss: 0.00000309\n"
     ]
    },
    {
     "name": "stderr",
     "output_type": "stream",
     "text": [
      "100%|████████████████████████████████████████████████████████████████████████████████| 234/234 [00:02<00:00, 92.74it/s]\n",
      "  4%|███▏                                                                              | 9/234 [00:00<00:02, 81.01it/s]"
     ]
    },
    {
     "name": "stdout",
     "output_type": "stream",
     "text": [
      "epoch: 66/150, train_loss: 0.00000289, val_loss: 0.00000307\n"
     ]
    },
    {
     "name": "stderr",
     "output_type": "stream",
     "text": [
      "100%|████████████████████████████████████████████████████████████████████████████████| 234/234 [00:02<00:00, 92.85it/s]\n",
      "  4%|███▍                                                                             | 10/234 [00:00<00:02, 93.37it/s]"
     ]
    },
    {
     "name": "stdout",
     "output_type": "stream",
     "text": [
      "epoch: 67/150, train_loss: 0.00000287, val_loss: 0.00000305\n"
     ]
    },
    {
     "name": "stderr",
     "output_type": "stream",
     "text": [
      "100%|████████████████████████████████████████████████████████████████████████████████| 234/234 [00:02<00:00, 93.14it/s]\n",
      "  4%|███▏                                                                              | 9/234 [00:00<00:02, 89.03it/s]"
     ]
    },
    {
     "name": "stdout",
     "output_type": "stream",
     "text": [
      "epoch: 68/150, train_loss: 0.00000286, val_loss: 0.00000303\n"
     ]
    },
    {
     "name": "stderr",
     "output_type": "stream",
     "text": [
      "100%|████████████████████████████████████████████████████████████████████████████████| 234/234 [00:02<00:00, 94.04it/s]\n",
      "  8%|██████▌                                                                          | 19/234 [00:00<00:02, 93.06it/s]"
     ]
    },
    {
     "name": "stdout",
     "output_type": "stream",
     "text": [
      "epoch: 69/150, train_loss: 0.00000286, val_loss: 0.00000302\n"
     ]
    },
    {
     "name": "stderr",
     "output_type": "stream",
     "text": [
      "100%|████████████████████████████████████████████████████████████████████████████████| 234/234 [00:02<00:00, 96.21it/s]\n",
      "  4%|███▍                                                                             | 10/234 [00:00<00:02, 95.15it/s]"
     ]
    },
    {
     "name": "stdout",
     "output_type": "stream",
     "text": [
      "epoch: 70/150, train_loss: 0.00000283, val_loss: 0.00000300\n"
     ]
    },
    {
     "name": "stderr",
     "output_type": "stream",
     "text": [
      "100%|████████████████████████████████████████████████████████████████████████████████| 234/234 [00:02<00:00, 95.54it/s]\n",
      "  4%|███▏                                                                              | 9/234 [00:00<00:02, 84.83it/s]"
     ]
    },
    {
     "name": "stdout",
     "output_type": "stream",
     "text": [
      "epoch: 71/150, train_loss: 0.00000281, val_loss: 0.00000299\n"
     ]
    },
    {
     "name": "stderr",
     "output_type": "stream",
     "text": [
      "100%|████████████████████████████████████████████████████████████████████████████████| 234/234 [00:02<00:00, 91.39it/s]\n",
      "  4%|███▏                                                                              | 9/234 [00:00<00:02, 88.16it/s]"
     ]
    },
    {
     "name": "stdout",
     "output_type": "stream",
     "text": [
      "epoch: 72/150, train_loss: 0.00000280, val_loss: 0.00000297\n"
     ]
    },
    {
     "name": "stderr",
     "output_type": "stream",
     "text": [
      "100%|████████████████████████████████████████████████████████████████████████████████| 234/234 [00:02<00:00, 93.51it/s]\n",
      "  4%|███▏                                                                              | 9/234 [00:00<00:02, 82.49it/s]"
     ]
    },
    {
     "name": "stdout",
     "output_type": "stream",
     "text": [
      "epoch: 73/150, train_loss: 0.00000278, val_loss: 0.00000295\n"
     ]
    },
    {
     "name": "stderr",
     "output_type": "stream",
     "text": [
      "100%|████████████████████████████████████████████████████████████████████████████████| 234/234 [00:02<00:00, 93.01it/s]\n",
      "  4%|███▍                                                                             | 10/234 [00:00<00:02, 92.51it/s]"
     ]
    },
    {
     "name": "stdout",
     "output_type": "stream",
     "text": [
      "epoch: 74/150, train_loss: 0.00000277, val_loss: 0.00000293\n"
     ]
    },
    {
     "name": "stderr",
     "output_type": "stream",
     "text": [
      "100%|████████████████████████████████████████████████████████████████████████████████| 234/234 [00:02<00:00, 97.41it/s]\n",
      "  4%|███▍                                                                             | 10/234 [00:00<00:02, 93.37it/s]"
     ]
    },
    {
     "name": "stdout",
     "output_type": "stream",
     "text": [
      "epoch: 75/150, train_loss: 0.00000275, val_loss: 0.00000291\n"
     ]
    },
    {
     "name": "stderr",
     "output_type": "stream",
     "text": [
      "100%|████████████████████████████████████████████████████████████████████████████████| 234/234 [00:02<00:00, 95.23it/s]\n",
      "  4%|███▏                                                                              | 9/234 [00:00<00:02, 89.92it/s]"
     ]
    },
    {
     "name": "stdout",
     "output_type": "stream",
     "text": [
      "epoch: 76/150, train_loss: 0.00000273, val_loss: 0.00000290\n"
     ]
    },
    {
     "name": "stderr",
     "output_type": "stream",
     "text": [
      "100%|████████████████████████████████████████████████████████████████████████████████| 234/234 [00:02<00:00, 97.45it/s]\n",
      "  4%|███▍                                                                             | 10/234 [00:00<00:02, 92.51it/s]"
     ]
    },
    {
     "name": "stdout",
     "output_type": "stream",
     "text": [
      "epoch: 77/150, train_loss: 0.00000271, val_loss: 0.00000287\n"
     ]
    },
    {
     "name": "stderr",
     "output_type": "stream",
     "text": [
      "100%|████████████████████████████████████████████████████████████████████████████████| 234/234 [00:02<00:00, 95.70it/s]\n",
      "  4%|███▏                                                                              | 9/234 [00:00<00:02, 85.64it/s]"
     ]
    },
    {
     "name": "stdout",
     "output_type": "stream",
     "text": [
      "epoch: 78/150, train_loss: 0.00000270, val_loss: 0.00000286\n"
     ]
    },
    {
     "name": "stderr",
     "output_type": "stream",
     "text": [
      "100%|████████████████████████████████████████████████████████████████████████████████| 234/234 [00:02<00:00, 94.54it/s]\n",
      "  4%|███▏                                                                              | 9/234 [00:00<00:02, 88.16it/s]"
     ]
    },
    {
     "name": "stdout",
     "output_type": "stream",
     "text": [
      "epoch: 79/150, train_loss: 0.00000268, val_loss: 0.00000286\n"
     ]
    },
    {
     "name": "stderr",
     "output_type": "stream",
     "text": [
      "100%|████████████████████████████████████████████████████████████████████████████████| 234/234 [00:02<00:00, 94.00it/s]\n",
      "  8%|██████▌                                                                          | 19/234 [00:00<00:02, 93.38it/s]"
     ]
    },
    {
     "name": "stdout",
     "output_type": "stream",
     "text": [
      "epoch: 80/150, train_loss: 0.00000266, val_loss: 0.00000283\n"
     ]
    },
    {
     "name": "stderr",
     "output_type": "stream",
     "text": [
      "100%|████████████████████████████████████████████████████████████████████████████████| 234/234 [00:02<00:00, 94.96it/s]\n",
      "  4%|███▍                                                                             | 10/234 [00:00<00:02, 92.51it/s]"
     ]
    },
    {
     "name": "stdout",
     "output_type": "stream",
     "text": [
      "epoch: 81/150, train_loss: 0.00000265, val_loss: 0.00000281\n"
     ]
    },
    {
     "name": "stderr",
     "output_type": "stream",
     "text": [
      "100%|████████████████████████████████████████████████████████████████████████████████| 234/234 [00:02<00:00, 95.04it/s]\n",
      "  4%|███▍                                                                             | 10/234 [00:00<00:02, 93.37it/s]"
     ]
    },
    {
     "name": "stdout",
     "output_type": "stream",
     "text": [
      "epoch: 82/150, train_loss: 0.00000263, val_loss: 0.00000279\n"
     ]
    },
    {
     "name": "stderr",
     "output_type": "stream",
     "text": [
      "100%|████████████████████████████████████████████████████████████████████████████████| 234/234 [00:02<00:00, 96.37it/s]\n",
      "  4%|███▍                                                                             | 10/234 [00:00<00:02, 96.07it/s]"
     ]
    },
    {
     "name": "stdout",
     "output_type": "stream",
     "text": [
      "epoch: 83/150, train_loss: 0.00000261, val_loss: 0.00000278\n"
     ]
    },
    {
     "name": "stderr",
     "output_type": "stream",
     "text": [
      "100%|████████████████████████████████████████████████████████████████████████████████| 234/234 [00:02<00:00, 97.98it/s]\n",
      "  4%|███▏                                                                              | 9/234 [00:00<00:02, 83.26it/s]"
     ]
    },
    {
     "name": "stdout",
     "output_type": "stream",
     "text": [
      "epoch: 84/150, train_loss: 0.00000260, val_loss: 0.00000276\n"
     ]
    },
    {
     "name": "stderr",
     "output_type": "stream",
     "text": [
      "100%|████████████████████████████████████████████████████████████████████████████████| 234/234 [00:02<00:00, 95.78it/s]\n",
      "  4%|███▏                                                                              | 9/234 [00:00<00:02, 87.30it/s]"
     ]
    },
    {
     "name": "stdout",
     "output_type": "stream",
     "text": [
      "epoch: 85/150, train_loss: 0.00000258, val_loss: 0.00000276\n"
     ]
    },
    {
     "name": "stderr",
     "output_type": "stream",
     "text": [
      "100%|████████████████████████████████████████████████████████████████████████████████| 234/234 [00:02<00:00, 95.97it/s]\n",
      "  4%|███▏                                                                              | 9/234 [00:00<00:02, 86.46it/s]"
     ]
    },
    {
     "name": "stdout",
     "output_type": "stream",
     "text": [
      "epoch: 86/150, train_loss: 0.00000257, val_loss: 0.00000277\n"
     ]
    },
    {
     "name": "stderr",
     "output_type": "stream",
     "text": [
      "100%|████████████████████████████████████████████████████████████████████████████████| 234/234 [00:02<00:00, 93.52it/s]\n",
      "  4%|███▍                                                                             | 10/234 [00:00<00:02, 92.51it/s]"
     ]
    },
    {
     "name": "stdout",
     "output_type": "stream",
     "text": [
      "epoch: 87/150, train_loss: 0.00000255, val_loss: 0.00000270\n"
     ]
    },
    {
     "name": "stderr",
     "output_type": "stream",
     "text": [
      "100%|████████████████████████████████████████████████████████████████████████████████| 234/234 [00:02<00:00, 95.54it/s]\n",
      "  4%|███▏                                                                              | 9/234 [00:00<00:02, 89.92it/s]"
     ]
    },
    {
     "name": "stdout",
     "output_type": "stream",
     "text": [
      "epoch: 88/150, train_loss: 0.00000254, val_loss: 0.00000271\n"
     ]
    },
    {
     "name": "stderr",
     "output_type": "stream",
     "text": [
      "100%|████████████████████████████████████████████████████████████████████████████████| 234/234 [00:02<00:00, 96.32it/s]\n",
      "  4%|███▍                                                                             | 10/234 [00:00<00:02, 93.37it/s]"
     ]
    },
    {
     "name": "stdout",
     "output_type": "stream",
     "text": [
      "epoch: 89/150, train_loss: 0.00000252, val_loss: 0.00000266\n"
     ]
    },
    {
     "name": "stderr",
     "output_type": "stream",
     "text": [
      "100%|████████████████████████████████████████████████████████████████████████████████| 234/234 [00:02<00:00, 94.08it/s]\n",
      "  4%|███▍                                                                             | 10/234 [00:00<00:02, 94.25it/s]"
     ]
    },
    {
     "name": "stdout",
     "output_type": "stream",
     "text": [
      "epoch: 90/150, train_loss: 0.00000250, val_loss: 0.00000264\n"
     ]
    },
    {
     "name": "stderr",
     "output_type": "stream",
     "text": [
      "100%|████████████████████████████████████████████████████████████████████████████████| 234/234 [00:02<00:00, 96.40it/s]\n",
      "  4%|███▍                                                                             | 10/234 [00:00<00:02, 93.37it/s]"
     ]
    },
    {
     "name": "stdout",
     "output_type": "stream",
     "text": [
      "epoch: 91/150, train_loss: 0.00000249, val_loss: 0.00000263\n"
     ]
    },
    {
     "name": "stderr",
     "output_type": "stream",
     "text": [
      "100%|████████████████████████████████████████████████████████████████████████████████| 234/234 [00:02<00:00, 93.42it/s]\n",
      "  4%|███▍                                                                             | 10/234 [00:00<00:02, 97.95it/s]"
     ]
    },
    {
     "name": "stdout",
     "output_type": "stream",
     "text": [
      "epoch: 92/150, train_loss: 0.00000247, val_loss: 0.00000262\n"
     ]
    },
    {
     "name": "stderr",
     "output_type": "stream",
     "text": [
      "100%|████████████████████████████████████████████████████████████████████████████████| 234/234 [00:02<00:00, 96.21it/s]\n",
      "  4%|███▍                                                                             | 10/234 [00:00<00:02, 96.07it/s]"
     ]
    },
    {
     "name": "stdout",
     "output_type": "stream",
     "text": [
      "epoch: 93/150, train_loss: 0.00000246, val_loss: 0.00000261\n"
     ]
    },
    {
     "name": "stderr",
     "output_type": "stream",
     "text": [
      "100%|████████████████████████████████████████████████████████████████████████████████| 234/234 [00:02<00:00, 98.15it/s]\n",
      "  4%|███▏                                                                              | 9/234 [00:00<00:02, 84.04it/s]"
     ]
    },
    {
     "name": "stdout",
     "output_type": "stream",
     "text": [
      "epoch: 94/150, train_loss: 0.00000244, val_loss: 0.00000259\n"
     ]
    },
    {
     "name": "stderr",
     "output_type": "stream",
     "text": [
      "100%|████████████████████████████████████████████████████████████████████████████████| 234/234 [00:02<00:00, 97.90it/s]\n",
      "  4%|███▏                                                                              | 9/234 [00:00<00:02, 87.30it/s]"
     ]
    },
    {
     "name": "stdout",
     "output_type": "stream",
     "text": [
      "epoch: 95/150, train_loss: 0.00000242, val_loss: 0.00000257\n"
     ]
    },
    {
     "name": "stderr",
     "output_type": "stream",
     "text": [
      "100%|████████████████████████████████████████████████████████████████████████████████| 234/234 [00:02<00:00, 94.73it/s]\n",
      "  8%|██████▏                                                                          | 18/234 [00:00<00:02, 85.83it/s]"
     ]
    },
    {
     "name": "stdout",
     "output_type": "stream",
     "text": [
      "epoch: 96/150, train_loss: 0.00000241, val_loss: 0.00000254\n"
     ]
    },
    {
     "name": "stderr",
     "output_type": "stream",
     "text": [
      "100%|████████████████████████████████████████████████████████████████████████████████| 234/234 [00:02<00:00, 93.25it/s]\n",
      "  4%|███▏                                                                              | 9/234 [00:00<00:02, 86.46it/s]"
     ]
    },
    {
     "name": "stdout",
     "output_type": "stream",
     "text": [
      "epoch: 97/150, train_loss: 0.00000239, val_loss: 0.00000253\n"
     ]
    },
    {
     "name": "stderr",
     "output_type": "stream",
     "text": [
      "100%|████████████████████████████████████████████████████████████████████████████████| 234/234 [00:02<00:00, 95.89it/s]\n",
      "  4%|███▍                                                                             | 10/234 [00:00<00:02, 90.83it/s]"
     ]
    },
    {
     "name": "stdout",
     "output_type": "stream",
     "text": [
      "epoch: 98/150, train_loss: 0.00000238, val_loss: 0.00000252\n"
     ]
    },
    {
     "name": "stderr",
     "output_type": "stream",
     "text": [
      "100%|████████████████████████████████████████████████████████████████████████████████| 234/234 [00:02<00:00, 95.42it/s]\n",
      "  4%|███▍                                                                             | 10/234 [00:00<00:02, 91.66it/s]"
     ]
    },
    {
     "name": "stdout",
     "output_type": "stream",
     "text": [
      "epoch: 99/150, train_loss: 0.00000236, val_loss: 0.00000252\n"
     ]
    },
    {
     "name": "stderr",
     "output_type": "stream",
     "text": [
      "100%|████████████████████████████████████████████████████████████████████████████████| 234/234 [00:02<00:00, 97.19it/s]\n",
      "  4%|███▍                                                                             | 10/234 [00:00<00:02, 97.00it/s]"
     ]
    },
    {
     "name": "stdout",
     "output_type": "stream",
     "text": [
      "epoch: 100/150, train_loss: 0.00000235, val_loss: 0.00000248\n"
     ]
    },
    {
     "name": "stderr",
     "output_type": "stream",
     "text": [
      "100%|████████████████████████████████████████████████████████████████████████████████| 234/234 [00:02<00:00, 96.29it/s]\n",
      "  4%|███▍                                                                             | 10/234 [00:00<00:02, 97.00it/s]"
     ]
    },
    {
     "name": "stdout",
     "output_type": "stream",
     "text": [
      "epoch: 101/150, train_loss: 0.00000233, val_loss: 0.00000246\n"
     ]
    },
    {
     "name": "stderr",
     "output_type": "stream",
     "text": [
      "100%|████████████████████████████████████████████████████████████████████████████████| 234/234 [00:02<00:00, 97.93it/s]\n",
      "  4%|███▍                                                                             | 10/234 [00:00<00:02, 93.37it/s]"
     ]
    },
    {
     "name": "stdout",
     "output_type": "stream",
     "text": [
      "epoch: 102/150, train_loss: 0.00000231, val_loss: 0.00000244\n"
     ]
    },
    {
     "name": "stderr",
     "output_type": "stream",
     "text": [
      "100%|████████████████████████████████████████████████████████████████████████████████| 234/234 [00:02<00:00, 97.78it/s]\n",
      "  2%|█▊                                                                                | 5/234 [00:00<00:04, 49.95it/s]"
     ]
    },
    {
     "name": "stdout",
     "output_type": "stream",
     "text": [
      "epoch: 103/150, train_loss: 0.00000230, val_loss: 0.00000246\n"
     ]
    },
    {
     "name": "stderr",
     "output_type": "stream",
     "text": [
      "100%|████████████████████████████████████████████████████████████████████████████████| 234/234 [00:02<00:00, 96.45it/s]\n",
      "  4%|███▏                                                                              | 9/234 [00:00<00:02, 89.92it/s]"
     ]
    },
    {
     "name": "stdout",
     "output_type": "stream",
     "text": [
      "epoch: 104/150, train_loss: 0.00000229, val_loss: 0.00000241\n"
     ]
    },
    {
     "name": "stderr",
     "output_type": "stream",
     "text": [
      "100%|████████████████████████████████████████████████████████████████████████████████| 234/234 [00:02<00:00, 97.87it/s]\n",
      "  4%|███▍                                                                             | 10/234 [00:00<00:02, 95.15it/s]"
     ]
    },
    {
     "name": "stdout",
     "output_type": "stream",
     "text": [
      "epoch: 105/150, train_loss: 0.00000227, val_loss: 0.00000244\n"
     ]
    },
    {
     "name": "stderr",
     "output_type": "stream",
     "text": [
      "100%|████████████████████████████████████████████████████████████████████████████████| 234/234 [00:02<00:00, 96.27it/s]\n",
      "  4%|███▏                                                                              | 9/234 [00:00<00:02, 89.92it/s]"
     ]
    },
    {
     "name": "stdout",
     "output_type": "stream",
     "text": [
      "epoch: 106/150, train_loss: 0.00000226, val_loss: 0.00000237\n"
     ]
    },
    {
     "name": "stderr",
     "output_type": "stream",
     "text": [
      "100%|████████████████████████████████████████████████████████████████████████████████| 234/234 [00:02<00:00, 97.36it/s]\n",
      "  4%|███▏                                                                              | 9/234 [00:00<00:02, 89.03it/s]"
     ]
    },
    {
     "name": "stdout",
     "output_type": "stream",
     "text": [
      "epoch: 107/150, train_loss: 0.00000225, val_loss: 0.00000236\n"
     ]
    },
    {
     "name": "stderr",
     "output_type": "stream",
     "text": [
      "100%|████████████████████████████████████████████████████████████████████████████████| 234/234 [00:02<00:00, 91.56it/s]\n",
      "  4%|███▍                                                                             | 10/234 [00:00<00:02, 92.51it/s]"
     ]
    },
    {
     "name": "stdout",
     "output_type": "stream",
     "text": [
      "epoch: 108/150, train_loss: 0.00000223, val_loss: 0.00000237\n"
     ]
    },
    {
     "name": "stderr",
     "output_type": "stream",
     "text": [
      "100%|████████████████████████████████████████████████████████████████████████████████| 234/234 [00:02<00:00, 94.84it/s]\n",
      "  4%|███▏                                                                              | 9/234 [00:00<00:02, 88.16it/s]"
     ]
    },
    {
     "name": "stdout",
     "output_type": "stream",
     "text": [
      "epoch: 109/150, train_loss: 0.00000221, val_loss: 0.00000235\n"
     ]
    },
    {
     "name": "stderr",
     "output_type": "stream",
     "text": [
      "100%|████████████████████████████████████████████████████████████████████████████████| 234/234 [00:02<00:00, 94.84it/s]\n",
      "  4%|███▍                                                                             | 10/234 [00:00<00:02, 92.94it/s]"
     ]
    },
    {
     "name": "stdout",
     "output_type": "stream",
     "text": [
      "epoch: 110/150, train_loss: 0.00000220, val_loss: 0.00000232\n"
     ]
    },
    {
     "name": "stderr",
     "output_type": "stream",
     "text": [
      "100%|████████████████████████████████████████████████████████████████████████████████| 234/234 [00:02<00:00, 94.74it/s]\n",
      "  3%|██▊                                                                               | 8/234 [00:00<00:03, 70.73it/s]"
     ]
    },
    {
     "name": "stdout",
     "output_type": "stream",
     "text": [
      "epoch: 111/150, train_loss: 0.00000218, val_loss: 0.00000230\n"
     ]
    },
    {
     "name": "stderr",
     "output_type": "stream",
     "text": [
      "100%|████████████████████████████████████████████████████████████████████████████████| 234/234 [00:02<00:00, 94.27it/s]\n",
      "  4%|███▍                                                                             | 10/234 [00:00<00:02, 95.15it/s]"
     ]
    },
    {
     "name": "stdout",
     "output_type": "stream",
     "text": [
      "epoch: 112/150, train_loss: 0.00000217, val_loss: 0.00000231\n"
     ]
    },
    {
     "name": "stderr",
     "output_type": "stream",
     "text": [
      "100%|████████████████████████████████████████████████████████████████████████████████| 234/234 [00:02<00:00, 93.71it/s]\n",
      "  4%|███▏                                                                              | 9/234 [00:00<00:02, 88.16it/s]"
     ]
    },
    {
     "name": "stdout",
     "output_type": "stream",
     "text": [
      "epoch: 113/150, train_loss: 0.00000216, val_loss: 0.00000227\n"
     ]
    },
    {
     "name": "stderr",
     "output_type": "stream",
     "text": [
      "100%|████████████████████████████████████████████████████████████████████████████████| 234/234 [00:02<00:00, 97.33it/s]\n",
      "  4%|███▍                                                                             | 10/234 [00:00<00:02, 92.51it/s]"
     ]
    },
    {
     "name": "stdout",
     "output_type": "stream",
     "text": [
      "epoch: 114/150, train_loss: 0.00000215, val_loss: 0.00000227\n"
     ]
    },
    {
     "name": "stderr",
     "output_type": "stream",
     "text": [
      "100%|████████████████████████████████████████████████████████████████████████████████| 234/234 [00:02<00:00, 94.80it/s]\n",
      "  4%|███▏                                                                              | 9/234 [00:00<00:02, 83.26it/s]"
     ]
    },
    {
     "name": "stdout",
     "output_type": "stream",
     "text": [
      "epoch: 115/150, train_loss: 0.00000213, val_loss: 0.00000223\n"
     ]
    },
    {
     "name": "stderr",
     "output_type": "stream",
     "text": [
      "100%|████████████████████████████████████████████████████████████████████████████████| 234/234 [00:02<00:00, 93.70it/s]\n",
      "  4%|███▏                                                                              | 9/234 [00:00<00:02, 88.16it/s]"
     ]
    },
    {
     "name": "stdout",
     "output_type": "stream",
     "text": [
      "epoch: 116/150, train_loss: 0.00000211, val_loss: 0.00000222\n"
     ]
    },
    {
     "name": "stderr",
     "output_type": "stream",
     "text": [
      "100%|████████████████████████████████████████████████████████████████████████████████| 234/234 [00:02<00:00, 94.19it/s]\n",
      "  4%|███▏                                                                              | 9/234 [00:00<00:02, 89.03it/s]"
     ]
    },
    {
     "name": "stdout",
     "output_type": "stream",
     "text": [
      "epoch: 117/150, train_loss: 0.00000210, val_loss: 0.00000223\n"
     ]
    },
    {
     "name": "stderr",
     "output_type": "stream",
     "text": [
      "100%|████████████████████████████████████████████████████████████████████████████████| 234/234 [00:02<00:00, 95.38it/s]\n",
      "  8%|██████▏                                                                          | 18/234 [00:00<00:02, 89.39it/s]"
     ]
    },
    {
     "name": "stdout",
     "output_type": "stream",
     "text": [
      "epoch: 118/150, train_loss: 0.00000210, val_loss: 0.00000219\n"
     ]
    },
    {
     "name": "stderr",
     "output_type": "stream",
     "text": [
      "100%|████████████████████████████████████████████████████████████████████████████████| 234/234 [00:02<00:00, 92.41it/s]\n",
      "  8%|██████▏                                                                          | 18/234 [00:00<00:02, 87.00it/s]"
     ]
    },
    {
     "name": "stdout",
     "output_type": "stream",
     "text": [
      "epoch: 119/150, train_loss: 0.00000208, val_loss: 0.00000220\n"
     ]
    },
    {
     "name": "stderr",
     "output_type": "stream",
     "text": [
      "100%|████████████████████████████████████████████████████████████████████████████████| 234/234 [00:02<00:00, 94.73it/s]\n",
      "  8%|██████▏                                                                          | 18/234 [00:00<00:02, 85.35it/s]"
     ]
    },
    {
     "name": "stdout",
     "output_type": "stream",
     "text": [
      "epoch: 120/150, train_loss: 0.00000206, val_loss: 0.00000217\n"
     ]
    },
    {
     "name": "stderr",
     "output_type": "stream",
     "text": [
      "100%|████████████████████████████████████████████████████████████████████████████████| 234/234 [00:02<00:00, 93.07it/s]\n",
      "  4%|███▍                                                                             | 10/234 [00:00<00:02, 94.25it/s]"
     ]
    },
    {
     "name": "stdout",
     "output_type": "stream",
     "text": [
      "epoch: 121/150, train_loss: 0.00000205, val_loss: 0.00000216\n"
     ]
    },
    {
     "name": "stderr",
     "output_type": "stream",
     "text": [
      "100%|████████████████████████████████████████████████████████████████████████████████| 234/234 [00:02<00:00, 94.19it/s]\n",
      "  4%|███▍                                                                             | 10/234 [00:00<00:02, 97.00it/s]"
     ]
    },
    {
     "name": "stdout",
     "output_type": "stream",
     "text": [
      "epoch: 122/150, train_loss: 0.00000204, val_loss: 0.00000214\n"
     ]
    },
    {
     "name": "stderr",
     "output_type": "stream",
     "text": [
      "100%|████████████████████████████████████████████████████████████████████████████████| 234/234 [00:02<00:00, 94.00it/s]\n",
      "  4%|███▍                                                                             | 10/234 [00:00<00:02, 93.37it/s]"
     ]
    },
    {
     "name": "stdout",
     "output_type": "stream",
     "text": [
      "epoch: 123/150, train_loss: 0.00000202, val_loss: 0.00000215\n"
     ]
    },
    {
     "name": "stderr",
     "output_type": "stream",
     "text": [
      "100%|████████████████████████████████████████████████████████████████████████████████| 234/234 [00:02<00:00, 95.70it/s]\n",
      "  4%|███▏                                                                              | 9/234 [00:00<00:02, 88.16it/s]"
     ]
    },
    {
     "name": "stdout",
     "output_type": "stream",
     "text": [
      "epoch: 124/150, train_loss: 0.00000201, val_loss: 0.00000212\n"
     ]
    },
    {
     "name": "stderr",
     "output_type": "stream",
     "text": [
      "100%|████████████████████████████████████████████████████████████████████████████████| 234/234 [00:02<00:00, 96.21it/s]\n",
      "  4%|███▍                                                                             | 10/234 [00:00<00:02, 90.83it/s]"
     ]
    },
    {
     "name": "stdout",
     "output_type": "stream",
     "text": [
      "epoch: 125/150, train_loss: 0.00000200, val_loss: 0.00000212\n"
     ]
    },
    {
     "name": "stderr",
     "output_type": "stream",
     "text": [
      "100%|████████████████████████████████████████████████████████████████████████████████| 234/234 [00:02<00:00, 93.52it/s]\n",
      "  4%|███▏                                                                              | 9/234 [00:00<00:02, 89.03it/s]"
     ]
    },
    {
     "name": "stdout",
     "output_type": "stream",
     "text": [
      "epoch: 126/150, train_loss: 0.00000198, val_loss: 0.00000209\n"
     ]
    },
    {
     "name": "stderr",
     "output_type": "stream",
     "text": [
      "100%|████████████████████████████████████████████████████████████████████████████████| 234/234 [00:02<00:00, 93.89it/s]\n",
      "  4%|███▏                                                                              | 9/234 [00:00<00:02, 83.26it/s]"
     ]
    },
    {
     "name": "stdout",
     "output_type": "stream",
     "text": [
      "epoch: 127/150, train_loss: 0.00000197, val_loss: 0.00000209\n"
     ]
    },
    {
     "name": "stderr",
     "output_type": "stream",
     "text": [
      "100%|████████████████████████████████████████████████████████████████████████████████| 234/234 [00:02<00:00, 93.29it/s]\n",
      "  3%|██▍                                                                               | 7/234 [00:00<00:04, 55.95it/s]"
     ]
    },
    {
     "name": "stdout",
     "output_type": "stream",
     "text": [
      "epoch: 128/150, train_loss: 0.00000196, val_loss: 0.00000207\n"
     ]
    },
    {
     "name": "stderr",
     "output_type": "stream",
     "text": [
      "100%|████████████████████████████████████████████████████████████████████████████████| 234/234 [00:02<00:00, 92.99it/s]\n",
      "  4%|███▏                                                                              | 9/234 [00:00<00:02, 80.28it/s]"
     ]
    },
    {
     "name": "stdout",
     "output_type": "stream",
     "text": [
      "epoch: 129/150, train_loss: 0.00000195, val_loss: 0.00000206\n"
     ]
    },
    {
     "name": "stderr",
     "output_type": "stream",
     "text": [
      "100%|████████████████████████████████████████████████████████████████████████████████| 234/234 [00:02<00:00, 91.93it/s]\n",
      "  4%|███▏                                                                              | 9/234 [00:00<00:02, 81.01it/s]"
     ]
    },
    {
     "name": "stdout",
     "output_type": "stream",
     "text": [
      "epoch: 130/150, train_loss: 0.00000194, val_loss: 0.00000206\n"
     ]
    },
    {
     "name": "stderr",
     "output_type": "stream",
     "text": [
      "100%|████████████████████████████████████████████████████████████████████████████████| 234/234 [00:02<00:00, 94.23it/s]\n",
      "  4%|███▏                                                                              | 9/234 [00:00<00:02, 83.26it/s]"
     ]
    },
    {
     "name": "stdout",
     "output_type": "stream",
     "text": [
      "epoch: 131/150, train_loss: 0.00000193, val_loss: 0.00000204\n"
     ]
    },
    {
     "name": "stderr",
     "output_type": "stream",
     "text": [
      "100%|████████████████████████████████████████████████████████████████████████████████| 234/234 [00:02<00:00, 92.92it/s]\n",
      "  3%|██▍                                                                               | 7/234 [00:00<00:03, 69.24it/s]"
     ]
    },
    {
     "name": "stdout",
     "output_type": "stream",
     "text": [
      "epoch: 132/150, train_loss: 0.00000192, val_loss: 0.00000202\n"
     ]
    },
    {
     "name": "stderr",
     "output_type": "stream",
     "text": [
      "100%|████████████████████████████████████████████████████████████████████████████████| 234/234 [00:02<00:00, 89.18it/s]\n",
      "  8%|██████▌                                                                          | 19/234 [00:00<00:02, 90.98it/s]"
     ]
    },
    {
     "name": "stdout",
     "output_type": "stream",
     "text": [
      "epoch: 133/150, train_loss: 0.00000191, val_loss: 0.00000201\n"
     ]
    },
    {
     "name": "stderr",
     "output_type": "stream",
     "text": [
      "100%|████████████████████████████████████████████████████████████████████████████████| 234/234 [00:02<00:00, 96.21it/s]\n",
      "  4%|███▍                                                                             | 10/234 [00:00<00:02, 92.51it/s]"
     ]
    },
    {
     "name": "stdout",
     "output_type": "stream",
     "text": [
      "epoch: 134/150, train_loss: 0.00000190, val_loss: 0.00000200\n"
     ]
    },
    {
     "name": "stderr",
     "output_type": "stream",
     "text": [
      "100%|████████████████████████████████████████████████████████████████████████████████| 234/234 [00:02<00:00, 94.65it/s]\n",
      "  4%|███▍                                                                             | 10/234 [00:00<00:02, 97.00it/s]"
     ]
    },
    {
     "name": "stdout",
     "output_type": "stream",
     "text": [
      "epoch: 135/150, train_loss: 0.00000188, val_loss: 0.00000199\n"
     ]
    },
    {
     "name": "stderr",
     "output_type": "stream",
     "text": [
      "100%|████████████████████████████████████████████████████████████████████████████████| 234/234 [00:02<00:00, 96.69it/s]\n",
      "  4%|███▍                                                                             | 10/234 [00:00<00:02, 92.50it/s]"
     ]
    },
    {
     "name": "stdout",
     "output_type": "stream",
     "text": [
      "epoch: 136/150, train_loss: 0.00000187, val_loss: 0.00000198\n"
     ]
    },
    {
     "name": "stderr",
     "output_type": "stream",
     "text": [
      "100%|████████████████████████████████████████████████████████████████████████████████| 234/234 [00:02<00:00, 95.97it/s]\n",
      "  3%|██▊                                                                               | 8/234 [00:00<00:03, 73.33it/s]"
     ]
    },
    {
     "name": "stdout",
     "output_type": "stream",
     "text": [
      "epoch: 137/150, train_loss: 0.00000186, val_loss: 0.00000197\n"
     ]
    },
    {
     "name": "stderr",
     "output_type": "stream",
     "text": [
      "100%|████████████████████████████████████████████████████████████████████████████████| 234/234 [00:02<00:00, 91.61it/s]\n",
      "  8%|██████▏                                                                          | 18/234 [00:00<00:02, 86.85it/s]"
     ]
    },
    {
     "name": "stdout",
     "output_type": "stream",
     "text": [
      "epoch: 138/150, train_loss: 0.00000185, val_loss: 0.00000196\n"
     ]
    },
    {
     "name": "stderr",
     "output_type": "stream",
     "text": [
      "100%|████████████████████████████████████████████████████████████████████████████████| 234/234 [00:02<00:00, 91.15it/s]\n",
      "  4%|███▏                                                                              | 9/234 [00:00<00:02, 89.03it/s]"
     ]
    },
    {
     "name": "stdout",
     "output_type": "stream",
     "text": [
      "epoch: 139/150, train_loss: 0.00000184, val_loss: 0.00000194\n"
     ]
    },
    {
     "name": "stderr",
     "output_type": "stream",
     "text": [
      "100%|████████████████████████████████████████████████████████████████████████████████| 234/234 [00:02<00:00, 88.72it/s]\n",
      "  9%|██████▉                                                                          | 20/234 [00:00<00:02, 91.56it/s]"
     ]
    },
    {
     "name": "stdout",
     "output_type": "stream",
     "text": [
      "epoch: 140/150, train_loss: 0.00000183, val_loss: 0.00000194\n"
     ]
    },
    {
     "name": "stderr",
     "output_type": "stream",
     "text": [
      "100%|████████████████████████████████████████████████████████████████████████████████| 234/234 [00:02<00:00, 96.13it/s]\n",
      "  4%|███▍                                                                             | 10/234 [00:00<00:02, 96.07it/s]"
     ]
    },
    {
     "name": "stdout",
     "output_type": "stream",
     "text": [
      "epoch: 141/150, train_loss: 0.00000182, val_loss: 0.00000193\n"
     ]
    },
    {
     "name": "stderr",
     "output_type": "stream",
     "text": [
      "100%|████████████████████████████████████████████████████████████████████████████████| 234/234 [00:02<00:00, 92.33it/s]\n",
      "  4%|███▏                                                                              | 9/234 [00:00<00:02, 89.92it/s]"
     ]
    },
    {
     "name": "stdout",
     "output_type": "stream",
     "text": [
      "epoch: 142/150, train_loss: 0.00000181, val_loss: 0.00000191\n"
     ]
    },
    {
     "name": "stderr",
     "output_type": "stream",
     "text": [
      "100%|████████████████████████████████████████████████████████████████████████████████| 234/234 [00:02<00:00, 94.19it/s]\n",
      "  8%|██████▏                                                                          | 18/234 [00:00<00:02, 86.26it/s]"
     ]
    },
    {
     "name": "stdout",
     "output_type": "stream",
     "text": [
      "epoch: 143/150, train_loss: 0.00000180, val_loss: 0.00000191\n"
     ]
    },
    {
     "name": "stderr",
     "output_type": "stream",
     "text": [
      "100%|████████████████████████████████████████████████████████████████████████████████| 234/234 [00:02<00:00, 92.48it/s]\n",
      "  4%|███▏                                                                              | 9/234 [00:00<00:02, 86.46it/s]"
     ]
    },
    {
     "name": "stdout",
     "output_type": "stream",
     "text": [
      "epoch: 144/150, train_loss: 0.00000179, val_loss: 0.00000191\n"
     ]
    },
    {
     "name": "stderr",
     "output_type": "stream",
     "text": [
      "100%|████████████████████████████████████████████████████████████████████████████████| 234/234 [00:02<00:00, 95.38it/s]\n",
      "  4%|███▏                                                                              | 9/234 [00:00<00:02, 87.30it/s]"
     ]
    },
    {
     "name": "stdout",
     "output_type": "stream",
     "text": [
      "epoch: 145/150, train_loss: 0.00000178, val_loss: 0.00000187\n"
     ]
    },
    {
     "name": "stderr",
     "output_type": "stream",
     "text": [
      "100%|████████████████████████████████████████████████████████████████████████████████| 234/234 [00:02<00:00, 94.92it/s]\n",
      "  4%|███▏                                                                              | 9/234 [00:00<00:02, 81.74it/s]"
     ]
    },
    {
     "name": "stdout",
     "output_type": "stream",
     "text": [
      "epoch: 146/150, train_loss: 0.00000177, val_loss: 0.00000188\n"
     ]
    },
    {
     "name": "stderr",
     "output_type": "stream",
     "text": [
      "100%|████████████████████████████████████████████████████████████████████████████████| 234/234 [00:02<00:00, 93.37it/s]\n",
      "  4%|███▏                                                                              | 9/234 [00:00<00:02, 89.92it/s]"
     ]
    },
    {
     "name": "stdout",
     "output_type": "stream",
     "text": [
      "epoch: 147/150, train_loss: 0.00000176, val_loss: 0.00000186\n"
     ]
    },
    {
     "name": "stderr",
     "output_type": "stream",
     "text": [
      "100%|████████████████████████████████████████████████████████████████████████████████| 234/234 [00:02<00:00, 93.48it/s]\n",
      "  4%|███▍                                                                             | 10/234 [00:00<00:02, 91.66it/s]"
     ]
    },
    {
     "name": "stdout",
     "output_type": "stream",
     "text": [
      "epoch: 148/150, train_loss: 0.00000175, val_loss: 0.00000185\n"
     ]
    },
    {
     "name": "stderr",
     "output_type": "stream",
     "text": [
      "100%|████████████████████████████████████████████████████████████████████████████████| 234/234 [00:02<00:00, 92.63it/s]\n",
      "  4%|███▍                                                                             | 10/234 [00:00<00:02, 93.37it/s]"
     ]
    },
    {
     "name": "stdout",
     "output_type": "stream",
     "text": [
      "epoch: 149/150, train_loss: 0.00000175, val_loss: 0.00000184\n"
     ]
    },
    {
     "name": "stderr",
     "output_type": "stream",
     "text": [
      "100%|████████████████████████████████████████████████████████████████████████████████| 234/234 [00:02<00:00, 95.04it/s]\n"
     ]
    },
    {
     "name": "stdout",
     "output_type": "stream",
     "text": [
      "epoch: 150/150, train_loss: 0.00000174, val_loss: 0.00000183\n",
      "best mse : 0.00000183\n"
     ]
    }
   ],
   "source": [
    "MSE = nn.MSELoss(reduction = 'mean')\n",
    "trainer = Trainer(model, train_loader, val_loader, criterion = MSE, optimizer = Adam,\n",
    "                  epochs = 150, lr = 0.00001, device = device)\n",
    "trainer.fit()"
   ]
  },
  {
   "cell_type": "code",
   "execution_count": 9,
   "metadata": {},
   "outputs": [
    {
     "data": {
      "image/png": "[encoded data removed]",
      "text/plain": [
       "<Figure size 432x288 with 1 Axes>"
      ]
     },
     "metadata": {
      "needs_background": "light"
     },
     "output_type": "display_data"
    }
   ],
   "source": [
    "import matplotlib.pyplot as plt\n",
    "%matplotlib inline\n",
    "\n",
    "history = trainer.history()\n",
    "\n",
    "plt.plot(history['train_loss'][10:])\n",
    "plt.plot(history['val_loss'][10:])\n",
    "plt.title('Train and Validation loss')\n",
    "plt.show()"
   ]
  },
  {
   "cell_type": "markdown",
   "metadata": {},
   "source": [
    "## Evaluation"
   ]
  },
  {
   "cell_type": "code",
   "execution_count": 10,
   "metadata": {},
   "outputs": [
    {
     "name": "stdout",
     "output_type": "stream",
     "text": [
      "mse : 1.0654050394502217e-06\n"
     ]
    }
   ],
   "source": [
    "trainer.evaluation(test_loader, device)"
   ]
  },
  {
   "cell_type": "markdown",
   "metadata": {},
   "source": [
    "## model save"
   ]
  },
  {
   "cell_type": "code",
   "execution_count": 11,
   "metadata": {},
   "outputs": [],
   "source": [
    "model = trainer.get_best_model()\n",
    "model.to('cpu')\n",
    "torch.save(model.state_dict(), 'model.pt')"
   ]
  },
  {
   "cell_type": "code",
   "execution_count": null,
   "metadata": {},
   "outputs": [],
   "source": []
  },
  {
   "cell_type": "code",
   "execution_count": null,
   "metadata": {},
   "outputs": [],
   "source": []
  }
 ],
 "metadata": {
  "kernelspec": {
   "display_name": "PyTorch",
   "language": "python",
   "name": "pytorch"
  },
  "language_info": {
   "codemirror_mode": {
    "name": "ipython",
    "version": 3
   },
   "file_extension": ".py",
   "mimetype": "text/x-python",
   "name": "python",
   "nbconvert_exporter": "python",
   "pygments_lexer": "ipython3",
   "version": "3.7.10"
  }
 },
 "nbformat": 4,
 "nbformat_minor": 4
}
