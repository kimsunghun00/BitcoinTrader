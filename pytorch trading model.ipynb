{
 "cells": [
  {
   "cell_type": "code",
   "execution_count": 1,
   "metadata": {},
   "outputs": [
    {
     "name": "stderr",
     "output_type": "stream",
     "text": [
      "100%|████████████████████████████████████████████████████████████████████████████████████| 1/1 [00:00<00:00,  1.43it/s]\n"
     ]
    }
   ],
   "source": [
    "import torch\n",
    "from torch import nn, optim\n",
    "from torch.utils.data import DataLoader, TensorDataset\n",
    "from torch.nn import functional as F\n",
    "import numpy as np\n",
    "import tqdm\n",
    "\n",
    "from dataset import Dataset\n",
    "ds = Dataset(file_path='./data', window_size = 20, test_size = 1000)"
   ]
  },
  {
   "cell_type": "code",
   "execution_count": 2,
   "metadata": {
    "scrolled": true
   },
   "outputs": [
    {
     "name": "stderr",
     "output_type": "stream",
     "text": [
      "100%|████████████████████████████████████████████████████████████████████████████████████| 1/1 [00:13<00:00, 13.79s/it]\n"
     ]
    },
    {
     "name": "stdout",
     "output_type": "stream",
     "text": [
      "['KRW-BTC'] are combined as training set\n",
      "completed\n",
      "torch.Size([65728, 20, 22]) torch.Size([65728, 3])\n",
      "torch.Size([980, 20, 22]) torch.Size([980, 3])\n"
     ]
    }
   ],
   "source": [
    "(train_features, train_labels), (test_features, test_labels) = ds.get_dataset()\n",
    "print(train_features.shape, train_labels.shape)\n",
    "print(test_features.shape, test_labels.shape)"
   ]
  },
  {
   "cell_type": "code",
   "execution_count": 3,
   "metadata": {},
   "outputs": [
    {
     "name": "stdout",
     "output_type": "stream",
     "text": [
      "torch.Size([59155, 20, 22]) torch.Size([59155, 3])\n",
      "torch.Size([6573, 20, 22]) torch.Size([6573, 3])\n"
     ]
    }
   ],
   "source": [
    "from sklearn.model_selection import train_test_split\n",
    "train_features, val_features, train_labels, val_labels = train_test_split(train_features, train_labels, test_size = 0.1)\n",
    "print(train_features.shape, train_labels.shape)\n",
    "print(val_features.shape, val_labels.shape)"
   ]
  },
  {
   "cell_type": "markdown",
   "metadata": {},
   "source": [
    "## Dataset"
   ]
  },
  {
   "cell_type": "code",
   "execution_count": 4,
   "metadata": {},
   "outputs": [],
   "source": [
    "train_dataset = TensorDataset(train_features, train_labels)\n",
    "val_dataset = TensorDataset(val_features, val_labels)\n",
    "test_dataset = TensorDataset(test_features, test_labels)"
   ]
  },
  {
   "cell_type": "markdown",
   "metadata": {},
   "source": [
    "## DataLoader"
   ]
  },
  {
   "cell_type": "code",
   "execution_count": 5,
   "metadata": {},
   "outputs": [],
   "source": [
    "BATCH_SIZE = 256\n",
    "train_loader = DataLoader(train_dataset, batch_size = BATCH_SIZE, shuffle = True)\n",
    "val_loader = DataLoader(val_dataset, batch_size = BATCH_SIZE, shuffle = False)\n",
    "test_loader = DataLoader(test_dataset, batch_size = BATCH_SIZE, shuffle = False)"
   ]
  },
  {
   "cell_type": "markdown",
   "metadata": {},
   "source": [
    "## Model"
   ]
  },
  {
   "cell_type": "code",
   "execution_count": 6,
   "metadata": {},
   "outputs": [],
   "source": [
    "from model import Model\n",
    "model = Model(input_size = train_features.shape[2], recurrent_hidden_size = 128, dense_hidden_size = 256, output_size = 3)"
   ]
  },
  {
   "cell_type": "markdown",
   "metadata": {},
   "source": [
    "## Train"
   ]
  },
  {
   "cell_type": "code",
   "execution_count": 7,
   "metadata": {
    "scrolled": false
   },
   "outputs": [
    {
     "name": "stdout",
     "output_type": "stream",
     "text": [
      "cuda:0\n"
     ]
    },
    {
     "data": {
      "text/plain": [
       "Model(\n",
       "  (gru): GRU(22, 128, num_layers=2, batch_first=True, bidirectional=True)\n",
       "  (dense1): Linear(in_features=256, out_features=256, bias=True)\n",
       "  (dense2): Linear(in_features=256, out_features=128, bias=True)\n",
       "  (out): Linear(in_features=128, out_features=3, bias=False)\n",
       ")"
      ]
     },
     "execution_count": 7,
     "metadata": {},
     "output_type": "execute_result"
    }
   ],
   "source": [
    "from torch.optim import Adam\n",
    "from train import Trainer\n",
    "\n",
    "device = 'cuda:0' if torch.cuda.is_available() else 'cpu'\n",
    "print(device)\n",
    "model.to(device)"
   ]
  },
  {
   "cell_type": "code",
   "execution_count": 8,
   "metadata": {
    "scrolled": true
   },
   "outputs": [
    {
     "name": "stderr",
     "output_type": "stream",
     "text": [
      "100%|████████████████████████████████████████████████████████████████████████████████| 232/232 [00:02<00:00, 80.81it/s]\n",
      "  4%|███▏                                                                              | 9/232 [00:00<00:02, 81.00it/s]"
     ]
    },
    {
     "name": "stdout",
     "output_type": "stream",
     "text": [
      "epoch: 1/100, train_loss: 0.00007023, val_loss: 0.00000849\n"
     ]
    },
    {
     "name": "stderr",
     "output_type": "stream",
     "text": [
      "100%|████████████████████████████████████████████████████████████████████████████████| 232/232 [00:02<00:00, 92.46it/s]\n",
      "  4%|███▏                                                                              | 9/232 [00:00<00:02, 84.83it/s]"
     ]
    },
    {
     "name": "stdout",
     "output_type": "stream",
     "text": [
      "epoch: 2/100, train_loss: 0.00000781, val_loss: 0.00000689\n"
     ]
    },
    {
     "name": "stderr",
     "output_type": "stream",
     "text": [
      "100%|████████████████████████████████████████████████████████████████████████████████| 232/232 [00:02<00:00, 91.93it/s]\n",
      "  4%|███▏                                                                              | 9/232 [00:00<00:02, 83.26it/s]"
     ]
    },
    {
     "name": "stdout",
     "output_type": "stream",
     "text": [
      "epoch: 3/100, train_loss: 0.00000677, val_loss: 0.00000617\n"
     ]
    },
    {
     "name": "stderr",
     "output_type": "stream",
     "text": [
      "100%|████████████████████████████████████████████████████████████████████████████████| 232/232 [00:02<00:00, 91.83it/s]\n",
      "  4%|███▏                                                                              | 9/232 [00:00<00:02, 82.11it/s]"
     ]
    },
    {
     "name": "stdout",
     "output_type": "stream",
     "text": [
      "epoch: 4/100, train_loss: 0.00000615, val_loss: 0.00000567\n"
     ]
    },
    {
     "name": "stderr",
     "output_type": "stream",
     "text": [
      "100%|████████████████████████████████████████████████████████████████████████████████| 232/232 [00:02<00:00, 91.20it/s]\n",
      "  4%|███▏                                                                              | 9/232 [00:00<00:02, 84.52it/s]"
     ]
    },
    {
     "name": "stdout",
     "output_type": "stream",
     "text": [
      "epoch: 5/100, train_loss: 0.00000574, val_loss: 0.00000533\n"
     ]
    },
    {
     "name": "stderr",
     "output_type": "stream",
     "text": [
      "100%|████████████████████████████████████████████████████████████████████████████████| 232/232 [00:02<00:00, 90.79it/s]\n",
      "  4%|███▏                                                                              | 9/232 [00:00<00:02, 84.31it/s]"
     ]
    },
    {
     "name": "stdout",
     "output_type": "stream",
     "text": [
      "epoch: 6/100, train_loss: 0.00000545, val_loss: 0.00000505\n"
     ]
    },
    {
     "name": "stderr",
     "output_type": "stream",
     "text": [
      "100%|████████████████████████████████████████████████████████████████████████████████| 232/232 [00:02<00:00, 92.68it/s]\n",
      "  4%|███▏                                                                              | 9/232 [00:00<00:02, 84.03it/s]"
     ]
    },
    {
     "name": "stdout",
     "output_type": "stream",
     "text": [
      "epoch: 7/100, train_loss: 0.00000518, val_loss: 0.00000484\n"
     ]
    },
    {
     "name": "stderr",
     "output_type": "stream",
     "text": [
      "100%|████████████████████████████████████████████████████████████████████████████████| 232/232 [00:02<00:00, 91.44it/s]\n",
      "  4%|███▏                                                                              | 9/232 [00:00<00:02, 84.66it/s]"
     ]
    },
    {
     "name": "stdout",
     "output_type": "stream",
     "text": [
      "epoch: 8/100, train_loss: 0.00000501, val_loss: 0.00000465\n"
     ]
    },
    {
     "name": "stderr",
     "output_type": "stream",
     "text": [
      "100%|████████████████████████████████████████████████████████████████████████████████| 232/232 [00:02<00:00, 92.70it/s]\n",
      "  4%|███▏                                                                              | 9/232 [00:00<00:02, 84.82it/s]"
     ]
    },
    {
     "name": "stdout",
     "output_type": "stream",
     "text": [
      "epoch: 9/100, train_loss: 0.00000483, val_loss: 0.00000452\n"
     ]
    },
    {
     "name": "stderr",
     "output_type": "stream",
     "text": [
      "100%|████████████████████████████████████████████████████████████████████████████████| 232/232 [00:02<00:00, 91.54it/s]\n",
      "  4%|███▏                                                                              | 9/232 [00:00<00:02, 85.63it/s]"
     ]
    },
    {
     "name": "stdout",
     "output_type": "stream",
     "text": [
      "epoch: 10/100, train_loss: 0.00000472, val_loss: 0.00000439\n"
     ]
    },
    {
     "name": "stderr",
     "output_type": "stream",
     "text": [
      "100%|████████████████████████████████████████████████████████████████████████████████| 232/232 [00:02<00:00, 92.47it/s]\n",
      "  4%|███▏                                                                              | 9/232 [00:00<00:02, 81.00it/s]"
     ]
    },
    {
     "name": "stdout",
     "output_type": "stream",
     "text": [
      "epoch: 11/100, train_loss: 0.00000459, val_loss: 0.00000429\n"
     ]
    },
    {
     "name": "stderr",
     "output_type": "stream",
     "text": [
      "100%|████████████████████████████████████████████████████████████████████████████████| 232/232 [00:02<00:00, 89.67it/s]\n",
      "  4%|███▏                                                                              | 9/232 [00:00<00:02, 80.15it/s]"
     ]
    },
    {
     "name": "stdout",
     "output_type": "stream",
     "text": [
      "epoch: 12/100, train_loss: 0.00000450, val_loss: 0.00000422\n"
     ]
    },
    {
     "name": "stderr",
     "output_type": "stream",
     "text": [
      "100%|████████████████████████████████████████████████████████████████████████████████| 232/232 [00:02<00:00, 88.63it/s]\n",
      "  4%|███▏                                                                              | 9/232 [00:00<00:02, 86.45it/s]"
     ]
    },
    {
     "name": "stdout",
     "output_type": "stream",
     "text": [
      "epoch: 13/100, train_loss: 0.00000442, val_loss: 0.00000414\n"
     ]
    },
    {
     "name": "stderr",
     "output_type": "stream",
     "text": [
      "100%|████████████████████████████████████████████████████████████████████████████████| 232/232 [00:02<00:00, 92.07it/s]\n",
      "  4%|███▏                                                                              | 9/232 [00:00<00:02, 85.14it/s]"
     ]
    },
    {
     "name": "stdout",
     "output_type": "stream",
     "text": [
      "epoch: 14/100, train_loss: 0.00000435, val_loss: 0.00000407\n"
     ]
    },
    {
     "name": "stderr",
     "output_type": "stream",
     "text": [
      "100%|████████████████████████████████████████████████████████████████████████████████| 232/232 [00:02<00:00, 88.95it/s]\n",
      "  4%|███▏                                                                              | 9/232 [00:00<00:02, 84.44it/s]"
     ]
    },
    {
     "name": "stdout",
     "output_type": "stream",
     "text": [
      "epoch: 15/100, train_loss: 0.00000428, val_loss: 0.00000401\n"
     ]
    },
    {
     "name": "stderr",
     "output_type": "stream",
     "text": [
      "100%|████████████████████████████████████████████████████████████████████████████████| 232/232 [00:02<00:00, 89.32it/s]\n",
      "  4%|███▏                                                                              | 9/232 [00:00<00:02, 83.08it/s]"
     ]
    },
    {
     "name": "stdout",
     "output_type": "stream",
     "text": [
      "epoch: 16/100, train_loss: 0.00000426, val_loss: 0.00000398\n"
     ]
    },
    {
     "name": "stderr",
     "output_type": "stream",
     "text": [
      "100%|████████████████████████████████████████████████████████████████████████████████| 232/232 [00:02<00:00, 89.89it/s]\n",
      "  8%|██████▎                                                                          | 18/232 [00:00<00:02, 85.39it/s]"
     ]
    },
    {
     "name": "stdout",
     "output_type": "stream",
     "text": [
      "epoch: 17/100, train_loss: 0.00000417, val_loss: 0.00000391\n"
     ]
    },
    {
     "name": "stderr",
     "output_type": "stream",
     "text": [
      "100%|████████████████████████████████████████████████████████████████████████████████| 232/232 [00:02<00:00, 91.32it/s]\n",
      "  4%|███▏                                                                              | 9/232 [00:00<00:02, 85.23it/s]"
     ]
    },
    {
     "name": "stdout",
     "output_type": "stream",
     "text": [
      "epoch: 18/100, train_loss: 0.00000411, val_loss: 0.00000388\n"
     ]
    },
    {
     "name": "stderr",
     "output_type": "stream",
     "text": [
      "100%|████████████████████████████████████████████████████████████████████████████████| 232/232 [00:02<00:00, 91.60it/s]\n",
      "  3%|██                                                                                | 6/232 [00:00<00:04, 56.02it/s]"
     ]
    },
    {
     "name": "stdout",
     "output_type": "stream",
     "text": [
      "epoch: 19/100, train_loss: 0.00000408, val_loss: 0.00000385\n"
     ]
    },
    {
     "name": "stderr",
     "output_type": "stream",
     "text": [
      "100%|████████████████████████████████████████████████████████████████████████████████| 232/232 [00:02<00:00, 90.82it/s]\n",
      "  4%|███▏                                                                              | 9/232 [00:00<00:02, 86.46it/s]"
     ]
    },
    {
     "name": "stdout",
     "output_type": "stream",
     "text": [
      "epoch: 20/100, train_loss: 0.00000404, val_loss: 0.00000379\n"
     ]
    },
    {
     "name": "stderr",
     "output_type": "stream",
     "text": [
      "100%|████████████████████████████████████████████████████████████████████████████████| 232/232 [00:02<00:00, 92.38it/s]\n",
      "  4%|███▏                                                                              | 9/232 [00:00<00:02, 85.64it/s]"
     ]
    },
    {
     "name": "stdout",
     "output_type": "stream",
     "text": [
      "epoch: 21/100, train_loss: 0.00000399, val_loss: 0.00000375\n"
     ]
    },
    {
     "name": "stderr",
     "output_type": "stream",
     "text": [
      "100%|████████████████████████████████████████████████████████████████████████████████| 232/232 [00:02<00:00, 91.50it/s]\n",
      "  4%|███▏                                                                              | 9/232 [00:00<00:02, 81.74it/s]"
     ]
    },
    {
     "name": "stdout",
     "output_type": "stream",
     "text": [
      "epoch: 22/100, train_loss: 0.00000395, val_loss: 0.00000371\n"
     ]
    },
    {
     "name": "stderr",
     "output_type": "stream",
     "text": [
      "100%|████████████████████████████████████████████████████████████████████████████████| 232/232 [00:02<00:00, 89.51it/s]\n",
      "  3%|██▊                                                                               | 8/232 [00:00<00:02, 79.91it/s]"
     ]
    },
    {
     "name": "stdout",
     "output_type": "stream",
     "text": [
      "epoch: 23/100, train_loss: 0.00000392, val_loss: 0.00000373\n"
     ]
    },
    {
     "name": "stderr",
     "output_type": "stream",
     "text": [
      "100%|████████████████████████████████████████████████████████████████████████████████| 232/232 [00:02<00:00, 88.21it/s]\n",
      "  4%|███▏                                                                              | 9/232 [00:00<00:02, 84.21it/s]"
     ]
    },
    {
     "name": "stdout",
     "output_type": "stream",
     "text": [
      "epoch: 24/100, train_loss: 0.00000389, val_loss: 0.00000365\n"
     ]
    },
    {
     "name": "stderr",
     "output_type": "stream",
     "text": [
      "100%|████████████████████████████████████████████████████████████████████████████████| 232/232 [00:02<00:00, 92.26it/s]\n",
      "  4%|███▏                                                                              | 9/232 [00:00<00:02, 83.35it/s]"
     ]
    },
    {
     "name": "stdout",
     "output_type": "stream",
     "text": [
      "epoch: 25/100, train_loss: 0.00000387, val_loss: 0.00000362\n"
     ]
    },
    {
     "name": "stderr",
     "output_type": "stream",
     "text": [
      "100%|████████████████████████████████████████████████████████████████████████████████| 232/232 [00:02<00:00, 90.64it/s]\n",
      "  4%|███▏                                                                              | 9/232 [00:00<00:02, 84.36it/s]"
     ]
    },
    {
     "name": "stdout",
     "output_type": "stream",
     "text": [
      "epoch: 26/100, train_loss: 0.00000383, val_loss: 0.00000360\n"
     ]
    },
    {
     "name": "stderr",
     "output_type": "stream",
     "text": [
      "100%|████████████████████████████████████████████████████████████████████████████████| 232/232 [00:02<00:00, 91.78it/s]\n",
      "  4%|███▏                                                                              | 9/232 [00:00<00:02, 83.37it/s]"
     ]
    },
    {
     "name": "stdout",
     "output_type": "stream",
     "text": [
      "epoch: 27/100, train_loss: 0.00000380, val_loss: 0.00000358\n"
     ]
    },
    {
     "name": "stderr",
     "output_type": "stream",
     "text": [
      "100%|████████████████████████████████████████████████████████████████████████████████| 232/232 [00:02<00:00, 89.83it/s]\n",
      "  4%|███▏                                                                              | 9/232 [00:00<00:02, 85.64it/s]"
     ]
    },
    {
     "name": "stdout",
     "output_type": "stream",
     "text": [
      "epoch: 28/100, train_loss: 0.00000378, val_loss: 0.00000354\n"
     ]
    },
    {
     "name": "stderr",
     "output_type": "stream",
     "text": [
      "100%|████████████████████████████████████████████████████████████████████████████████| 232/232 [00:02<00:00, 89.97it/s]\n",
      "  4%|███▏                                                                              | 9/232 [00:00<00:02, 83.26it/s]"
     ]
    },
    {
     "name": "stdout",
     "output_type": "stream",
     "text": [
      "epoch: 29/100, train_loss: 0.00000375, val_loss: 0.00000352\n"
     ]
    },
    {
     "name": "stderr",
     "output_type": "stream",
     "text": [
      "100%|████████████████████████████████████████████████████████████████████████████████| 232/232 [00:02<00:00, 91.80it/s]\n",
      "  4%|███▏                                                                              | 9/232 [00:00<00:02, 85.63it/s]"
     ]
    },
    {
     "name": "stdout",
     "output_type": "stream",
     "text": [
      "epoch: 30/100, train_loss: 0.00000372, val_loss: 0.00000350\n"
     ]
    },
    {
     "name": "stderr",
     "output_type": "stream",
     "text": [
      "100%|████████████████████████████████████████████████████████████████████████████████| 232/232 [00:02<00:00, 90.10it/s]\n",
      "  4%|███▏                                                                              | 9/232 [00:00<00:02, 80.28it/s]"
     ]
    },
    {
     "name": "stdout",
     "output_type": "stream",
     "text": [
      "epoch: 31/100, train_loss: 0.00000371, val_loss: 0.00000347\n"
     ]
    },
    {
     "name": "stderr",
     "output_type": "stream",
     "text": [
      "100%|████████████████████████████████████████████████████████████████████████████████| 232/232 [00:02<00:00, 90.92it/s]\n",
      "  4%|███▏                                                                              | 9/232 [00:00<00:02, 85.23it/s]"
     ]
    },
    {
     "name": "stdout",
     "output_type": "stream",
     "text": [
      "epoch: 32/100, train_loss: 0.00000367, val_loss: 0.00000350\n"
     ]
    },
    {
     "name": "stderr",
     "output_type": "stream",
     "text": [
      "100%|████████████████████████████████████████████████████████████████████████████████| 232/232 [00:02<00:00, 90.42it/s]\n",
      "  4%|███▏                                                                              | 9/232 [00:00<00:02, 84.83it/s]"
     ]
    },
    {
     "name": "stdout",
     "output_type": "stream",
     "text": [
      "epoch: 33/100, train_loss: 0.00000364, val_loss: 0.00000346\n"
     ]
    },
    {
     "name": "stderr",
     "output_type": "stream",
     "text": [
      "100%|████████████████████████████████████████████████████████████████████████████████| 232/232 [00:02<00:00, 89.36it/s]\n",
      "  4%|███▏                                                                              | 9/232 [00:00<00:02, 81.23it/s]"
     ]
    },
    {
     "name": "stdout",
     "output_type": "stream",
     "text": [
      "epoch: 34/100, train_loss: 0.00000363, val_loss: 0.00000341\n"
     ]
    },
    {
     "name": "stderr",
     "output_type": "stream",
     "text": [
      "100%|████████████████████████████████████████████████████████████████████████████████| 232/232 [00:02<00:00, 89.22it/s]\n",
      "  4%|███▏                                                                              | 9/232 [00:00<00:02, 83.26it/s]"
     ]
    },
    {
     "name": "stdout",
     "output_type": "stream",
     "text": [
      "epoch: 35/100, train_loss: 0.00000361, val_loss: 0.00000340\n"
     ]
    },
    {
     "name": "stderr",
     "output_type": "stream",
     "text": [
      "100%|████████████████████████████████████████████████████████████████████████████████| 232/232 [00:02<00:00, 89.66it/s]\n",
      "  4%|███▏                                                                              | 9/232 [00:00<00:02, 84.83it/s]"
     ]
    },
    {
     "name": "stdout",
     "output_type": "stream",
     "text": [
      "epoch: 36/100, train_loss: 0.00000359, val_loss: 0.00000340\n"
     ]
    },
    {
     "name": "stderr",
     "output_type": "stream",
     "text": [
      "100%|████████████████████████████████████████████████████████████████████████████████| 232/232 [00:02<00:00, 90.70it/s]\n",
      "  4%|███▏                                                                              | 9/232 [00:00<00:02, 81.73it/s]"
     ]
    },
    {
     "name": "stdout",
     "output_type": "stream",
     "text": [
      "epoch: 37/100, train_loss: 0.00000356, val_loss: 0.00000338\n"
     ]
    },
    {
     "name": "stderr",
     "output_type": "stream",
     "text": [
      "100%|████████████████████████████████████████████████████████████████████████████████| 232/232 [00:02<00:00, 87.96it/s]\n",
      "  3%|██▊                                                                               | 8/232 [00:00<00:02, 77.22it/s]"
     ]
    },
    {
     "name": "stdout",
     "output_type": "stream",
     "text": [
      "epoch: 38/100, train_loss: 0.00000354, val_loss: 0.00000334\n"
     ]
    },
    {
     "name": "stderr",
     "output_type": "stream",
     "text": [
      "100%|████████████████████████████████████████████████████████████████████████████████| 232/232 [00:02<00:00, 87.05it/s]\n",
      "  4%|███▏                                                                              | 9/232 [00:00<00:02, 84.83it/s]"
     ]
    },
    {
     "name": "stdout",
     "output_type": "stream",
     "text": [
      "epoch: 39/100, train_loss: 0.00000352, val_loss: 0.00000332\n"
     ]
    },
    {
     "name": "stderr",
     "output_type": "stream",
     "text": [
      "100%|████████████████████████████████████████████████████████████████████████████████| 232/232 [00:02<00:00, 89.89it/s]\n",
      "  7%|█████▉                                                                           | 17/232 [00:00<00:02, 83.31it/s]"
     ]
    },
    {
     "name": "stdout",
     "output_type": "stream",
     "text": [
      "epoch: 40/100, train_loss: 0.00000350, val_loss: 0.00000332\n"
     ]
    },
    {
     "name": "stderr",
     "output_type": "stream",
     "text": [
      "100%|████████████████████████████████████████████████████████████████████████████████| 232/232 [00:02<00:00, 89.82it/s]\n",
      "  4%|███▏                                                                              | 9/232 [00:00<00:02, 83.63it/s]"
     ]
    },
    {
     "name": "stdout",
     "output_type": "stream",
     "text": [
      "epoch: 41/100, train_loss: 0.00000349, val_loss: 0.00000327\n"
     ]
    },
    {
     "name": "stderr",
     "output_type": "stream",
     "text": [
      "100%|████████████████████████████████████████████████████████████████████████████████| 232/232 [00:02<00:00, 91.23it/s]\n",
      "  4%|███▏                                                                              | 9/232 [00:00<00:02, 86.46it/s]"
     ]
    },
    {
     "name": "stdout",
     "output_type": "stream",
     "text": [
      "epoch: 42/100, train_loss: 0.00000345, val_loss: 0.00000326\n"
     ]
    },
    {
     "name": "stderr",
     "output_type": "stream",
     "text": [
      "100%|████████████████████████████████████████████████████████████████████████████████| 232/232 [00:02<00:00, 91.74it/s]\n",
      "  4%|███▏                                                                              | 9/232 [00:00<00:02, 80.28it/s]"
     ]
    },
    {
     "name": "stdout",
     "output_type": "stream",
     "text": [
      "epoch: 43/100, train_loss: 0.00000343, val_loss: 0.00000325\n"
     ]
    },
    {
     "name": "stderr",
     "output_type": "stream",
     "text": [
      "100%|████████████████████████████████████████████████████████████████████████████████| 232/232 [00:02<00:00, 90.96it/s]\n",
      "  4%|███▏                                                                              | 9/232 [00:00<00:02, 85.63it/s]"
     ]
    },
    {
     "name": "stdout",
     "output_type": "stream",
     "text": [
      "epoch: 44/100, train_loss: 0.00000341, val_loss: 0.00000325\n"
     ]
    },
    {
     "name": "stderr",
     "output_type": "stream",
     "text": [
      "100%|████████████████████████████████████████████████████████████████████████████████| 232/232 [00:02<00:00, 88.79it/s]\n",
      "  4%|███▏                                                                              | 9/232 [00:00<00:02, 81.01it/s]"
     ]
    },
    {
     "name": "stdout",
     "output_type": "stream",
     "text": [
      "epoch: 45/100, train_loss: 0.00000340, val_loss: 0.00000321\n"
     ]
    },
    {
     "name": "stderr",
     "output_type": "stream",
     "text": [
      "100%|████████████████████████████████████████████████████████████████████████████████| 232/232 [00:02<00:00, 89.39it/s]\n",
      "  4%|███▏                                                                              | 9/232 [00:00<00:02, 82.11it/s]"
     ]
    },
    {
     "name": "stdout",
     "output_type": "stream",
     "text": [
      "epoch: 46/100, train_loss: 0.00000339, val_loss: 0.00000319\n"
     ]
    },
    {
     "name": "stderr",
     "output_type": "stream",
     "text": [
      "100%|████████████████████████████████████████████████████████████████████████████████| 232/232 [00:02<00:00, 90.22it/s]\n",
      "  4%|███▏                                                                              | 9/232 [00:00<00:02, 81.74it/s]"
     ]
    },
    {
     "name": "stdout",
     "output_type": "stream",
     "text": [
      "epoch: 47/100, train_loss: 0.00000337, val_loss: 0.00000318\n"
     ]
    },
    {
     "name": "stderr",
     "output_type": "stream",
     "text": [
      "100%|████████████████████████████████████████████████████████████████████████████████| 232/232 [00:02<00:00, 91.29it/s]\n",
      "  4%|███▏                                                                              | 9/232 [00:00<00:02, 82.49it/s]"
     ]
    },
    {
     "name": "stdout",
     "output_type": "stream",
     "text": [
      "epoch: 48/100, train_loss: 0.00000337, val_loss: 0.00000318\n"
     ]
    },
    {
     "name": "stderr",
     "output_type": "stream",
     "text": [
      "100%|████████████████████████████████████████████████████████████████████████████████| 232/232 [00:02<00:00, 90.27it/s]\n",
      "  4%|███▏                                                                              | 9/232 [00:00<00:02, 81.74it/s]"
     ]
    },
    {
     "name": "stdout",
     "output_type": "stream",
     "text": [
      "epoch: 49/100, train_loss: 0.00000332, val_loss: 0.00000315\n"
     ]
    },
    {
     "name": "stderr",
     "output_type": "stream",
     "text": [
      "100%|████████████████████████████████████████████████████████████████████████████████| 232/232 [00:02<00:00, 90.94it/s]\n",
      "  4%|███▏                                                                              | 9/232 [00:00<00:02, 84.43it/s]"
     ]
    },
    {
     "name": "stdout",
     "output_type": "stream",
     "text": [
      "epoch: 50/100, train_loss: 0.00000329, val_loss: 0.00000314\n"
     ]
    },
    {
     "name": "stderr",
     "output_type": "stream",
     "text": [
      "100%|████████████████████████████████████████████████████████████████████████████████| 232/232 [00:02<00:00, 91.75it/s]\n",
      "  4%|███▏                                                                              | 9/232 [00:00<00:02, 84.82it/s]"
     ]
    },
    {
     "name": "stdout",
     "output_type": "stream",
     "text": [
      "epoch: 51/100, train_loss: 0.00000327, val_loss: 0.00000315\n"
     ]
    },
    {
     "name": "stderr",
     "output_type": "stream",
     "text": [
      "100%|████████████████████████████████████████████████████████████████████████████████| 232/232 [00:02<00:00, 90.42it/s]\n",
      "  4%|███▏                                                                              | 9/232 [00:00<00:02, 85.55it/s]"
     ]
    },
    {
     "name": "stdout",
     "output_type": "stream",
     "text": [
      "epoch: 52/100, train_loss: 0.00000325, val_loss: 0.00000309\n"
     ]
    },
    {
     "name": "stderr",
     "output_type": "stream",
     "text": [
      "100%|████████████████████████████████████████████████████████████████████████████████| 232/232 [00:02<00:00, 91.61it/s]\n",
      "  4%|███▏                                                                              | 9/232 [00:00<00:02, 84.03it/s]"
     ]
    },
    {
     "name": "stdout",
     "output_type": "stream",
     "text": [
      "epoch: 53/100, train_loss: 0.00000323, val_loss: 0.00000308\n"
     ]
    },
    {
     "name": "stderr",
     "output_type": "stream",
     "text": [
      "100%|████████████████████████████████████████████████████████████████████████████████| 232/232 [00:02<00:00, 90.83it/s]\n",
      "  4%|███▏                                                                              | 9/232 [00:00<00:02, 83.25it/s]"
     ]
    },
    {
     "name": "stdout",
     "output_type": "stream",
     "text": [
      "epoch: 54/100, train_loss: 0.00000322, val_loss: 0.00000307\n"
     ]
    },
    {
     "name": "stderr",
     "output_type": "stream",
     "text": [
      "100%|████████████████████████████████████████████████████████████████████████████████| 232/232 [00:02<00:00, 90.71it/s]\n",
      "  4%|███▏                                                                              | 9/232 [00:00<00:02, 83.12it/s]"
     ]
    },
    {
     "name": "stdout",
     "output_type": "stream",
     "text": [
      "epoch: 55/100, train_loss: 0.00000319, val_loss: 0.00000311\n"
     ]
    },
    {
     "name": "stderr",
     "output_type": "stream",
     "text": [
      "100%|████████████████████████████████████████████████████████████████████████████████| 232/232 [00:02<00:00, 88.74it/s]\n",
      "  4%|███▏                                                                              | 9/232 [00:00<00:02, 82.45it/s]"
     ]
    },
    {
     "name": "stdout",
     "output_type": "stream",
     "text": [
      "epoch: 56/100, train_loss: 0.00000317, val_loss: 0.00000304\n"
     ]
    },
    {
     "name": "stderr",
     "output_type": "stream",
     "text": [
      "100%|████████████████████████████████████████████████████████████████████████████████| 232/232 [00:02<00:00, 89.25it/s]\n",
      "  3%|██▊                                                                               | 8/232 [00:00<00:02, 79.14it/s]"
     ]
    },
    {
     "name": "stdout",
     "output_type": "stream",
     "text": [
      "epoch: 57/100, train_loss: 0.00000315, val_loss: 0.00000299\n"
     ]
    },
    {
     "name": "stderr",
     "output_type": "stream",
     "text": [
      "100%|████████████████████████████████████████████████████████████████████████████████| 232/232 [00:02<00:00, 89.02it/s]\n",
      "  4%|███▏                                                                              | 9/232 [00:00<00:02, 81.07it/s]"
     ]
    },
    {
     "name": "stdout",
     "output_type": "stream",
     "text": [
      "epoch: 58/100, train_loss: 0.00000313, val_loss: 0.00000298\n"
     ]
    },
    {
     "name": "stderr",
     "output_type": "stream",
     "text": [
      "100%|████████████████████████████████████████████████████████████████████████████████| 232/232 [00:02<00:00, 89.55it/s]\n",
      "  4%|███▏                                                                              | 9/232 [00:00<00:02, 82.76it/s]"
     ]
    },
    {
     "name": "stdout",
     "output_type": "stream",
     "text": [
      "epoch: 59/100, train_loss: 0.00000311, val_loss: 0.00000297\n"
     ]
    },
    {
     "name": "stderr",
     "output_type": "stream",
     "text": [
      "100%|████████████████████████████████████████████████████████████████████████████████| 232/232 [00:02<00:00, 90.46it/s]\n",
      "  4%|███▏                                                                              | 9/232 [00:00<00:02, 83.26it/s]"
     ]
    },
    {
     "name": "stdout",
     "output_type": "stream",
     "text": [
      "epoch: 60/100, train_loss: 0.00000309, val_loss: 0.00000296\n"
     ]
    },
    {
     "name": "stderr",
     "output_type": "stream",
     "text": [
      "100%|████████████████████████████████████████████████████████████████████████████████| 232/232 [00:02<00:00, 88.81it/s]\n",
      "  8%|██████▎                                                                          | 18/232 [00:00<00:02, 85.03it/s]"
     ]
    },
    {
     "name": "stdout",
     "output_type": "stream",
     "text": [
      "epoch: 61/100, train_loss: 0.00000308, val_loss: 0.00000292\n"
     ]
    },
    {
     "name": "stderr",
     "output_type": "stream",
     "text": [
      "100%|████████████████████████████████████████████████████████████████████████████████| 232/232 [00:02<00:00, 90.73it/s]\n",
      "  4%|███▏                                                                              | 9/232 [00:00<00:02, 82.87it/s]"
     ]
    },
    {
     "name": "stdout",
     "output_type": "stream",
     "text": [
      "epoch: 62/100, train_loss: 0.00000305, val_loss: 0.00000292\n"
     ]
    },
    {
     "name": "stderr",
     "output_type": "stream",
     "text": [
      "100%|████████████████████████████████████████████████████████████████████████████████| 232/232 [00:02<00:00, 89.73it/s]\n",
      "  4%|███▏                                                                              | 9/232 [00:00<00:02, 85.79it/s]"
     ]
    },
    {
     "name": "stdout",
     "output_type": "stream",
     "text": [
      "epoch: 63/100, train_loss: 0.00000303, val_loss: 0.00000291\n"
     ]
    },
    {
     "name": "stderr",
     "output_type": "stream",
     "text": [
      "100%|████████████████████████████████████████████████████████████████████████████████| 232/232 [00:02<00:00, 91.63it/s]\n",
      "  4%|███▏                                                                              | 9/232 [00:00<00:02, 82.11it/s]"
     ]
    },
    {
     "name": "stdout",
     "output_type": "stream",
     "text": [
      "epoch: 64/100, train_loss: 0.00000303, val_loss: 0.00000287\n"
     ]
    },
    {
     "name": "stderr",
     "output_type": "stream",
     "text": [
      "100%|████████████████████████████████████████████████████████████████████████████████| 232/232 [00:02<00:00, 90.35it/s]\n",
      "  4%|███▏                                                                              | 9/232 [00:00<00:02, 83.64it/s]"
     ]
    },
    {
     "name": "stdout",
     "output_type": "stream",
     "text": [
      "epoch: 65/100, train_loss: 0.00000299, val_loss: 0.00000294\n"
     ]
    },
    {
     "name": "stderr",
     "output_type": "stream",
     "text": [
      "100%|████████████████████████████████████████████████████████████████████████████████| 232/232 [00:02<00:00, 91.50it/s]\n",
      "  4%|███▏                                                                              | 9/232 [00:00<00:02, 83.64it/s]"
     ]
    },
    {
     "name": "stdout",
     "output_type": "stream",
     "text": [
      "epoch: 66/100, train_loss: 0.00000298, val_loss: 0.00000286\n"
     ]
    },
    {
     "name": "stderr",
     "output_type": "stream",
     "text": [
      "100%|████████████████████████████████████████████████████████████████████████████████| 232/232 [00:02<00:00, 90.01it/s]\n",
      "  4%|███▏                                                                              | 9/232 [00:00<00:02, 81.79it/s]"
     ]
    },
    {
     "name": "stdout",
     "output_type": "stream",
     "text": [
      "epoch: 67/100, train_loss: 0.00000296, val_loss: 0.00000282\n"
     ]
    },
    {
     "name": "stderr",
     "output_type": "stream",
     "text": [
      "100%|████████████████████████████████████████████████████████████████████████████████| 232/232 [00:02<00:00, 88.28it/s]\n",
      "  3%|██▊                                                                               | 8/232 [00:00<00:02, 78.35it/s]"
     ]
    },
    {
     "name": "stdout",
     "output_type": "stream",
     "text": [
      "epoch: 68/100, train_loss: 0.00000294, val_loss: 0.00000280\n"
     ]
    },
    {
     "name": "stderr",
     "output_type": "stream",
     "text": [
      "100%|████████████████████████████████████████████████████████████████████████████████| 232/232 [00:02<00:00, 90.31it/s]\n",
      "  4%|███▏                                                                              | 9/232 [00:00<00:02, 81.72it/s]"
     ]
    },
    {
     "name": "stdout",
     "output_type": "stream",
     "text": [
      "epoch: 69/100, train_loss: 0.00000294, val_loss: 0.00000304\n"
     ]
    },
    {
     "name": "stderr",
     "output_type": "stream",
     "text": [
      "100%|████████████████████████████████████████████████████████████████████████████████| 232/232 [00:02<00:00, 87.64it/s]\n",
      "  4%|███▏                                                                              | 9/232 [00:00<00:02, 81.75it/s]"
     ]
    },
    {
     "name": "stdout",
     "output_type": "stream",
     "text": [
      "epoch: 70/100, train_loss: 0.00000292, val_loss: 0.00000279\n"
     ]
    },
    {
     "name": "stderr",
     "output_type": "stream",
     "text": [
      "100%|████████████████████████████████████████████████████████████████████████████████| 232/232 [00:02<00:00, 90.34it/s]\n",
      "  4%|███▏                                                                              | 9/232 [00:00<00:02, 89.97it/s]"
     ]
    },
    {
     "name": "stdout",
     "output_type": "stream",
     "text": [
      "epoch: 71/100, train_loss: 0.00000289, val_loss: 0.00000277\n"
     ]
    },
    {
     "name": "stderr",
     "output_type": "stream",
     "text": [
      "100%|████████████████████████████████████████████████████████████████████████████████| 232/232 [00:02<00:00, 91.21it/s]\n",
      "  4%|███▏                                                                              | 9/232 [00:00<00:02, 89.02it/s]"
     ]
    },
    {
     "name": "stdout",
     "output_type": "stream",
     "text": [
      "epoch: 72/100, train_loss: 0.00000287, val_loss: 0.00000273\n"
     ]
    },
    {
     "name": "stderr",
     "output_type": "stream",
     "text": [
      "100%|████████████████████████████████████████████████████████████████████████████████| 232/232 [00:02<00:00, 91.84it/s]\n",
      "  4%|███▏                                                                              | 9/232 [00:00<00:02, 89.03it/s]"
     ]
    },
    {
     "name": "stdout",
     "output_type": "stream",
     "text": [
      "epoch: 73/100, train_loss: 0.00000283, val_loss: 0.00000271\n"
     ]
    },
    {
     "name": "stderr",
     "output_type": "stream",
     "text": [
      "100%|████████████████████████████████████████████████████████████████████████████████| 232/232 [00:02<00:00, 90.62it/s]\n",
      "  3%|██                                                                                | 6/232 [00:00<00:04, 56.02it/s]"
     ]
    },
    {
     "name": "stdout",
     "output_type": "stream",
     "text": [
      "epoch: 74/100, train_loss: 0.00000282, val_loss: 0.00000271\n"
     ]
    },
    {
     "name": "stderr",
     "output_type": "stream",
     "text": [
      "100%|████████████████████████████████████████████████████████████████████████████████| 232/232 [00:02<00:00, 90.40it/s]\n",
      "  4%|███▏                                                                              | 9/232 [00:00<00:02, 89.47it/s]"
     ]
    },
    {
     "name": "stdout",
     "output_type": "stream",
     "text": [
      "epoch: 75/100, train_loss: 0.00000280, val_loss: 0.00000269\n"
     ]
    },
    {
     "name": "stderr",
     "output_type": "stream",
     "text": [
      "100%|████████████████████████████████████████████████████████████████████████████████| 232/232 [00:02<00:00, 92.00it/s]\n",
      "  4%|███▏                                                                              | 9/232 [00:00<00:02, 88.15it/s]"
     ]
    },
    {
     "name": "stdout",
     "output_type": "stream",
     "text": [
      "epoch: 76/100, train_loss: 0.00000278, val_loss: 0.00000267\n"
     ]
    },
    {
     "name": "stderr",
     "output_type": "stream",
     "text": [
      "100%|████████████████████████████████████████████████████████████████████████████████| 232/232 [00:02<00:00, 88.90it/s]\n",
      "  8%|██████▎                                                                          | 18/232 [00:00<00:02, 87.60it/s]"
     ]
    },
    {
     "name": "stdout",
     "output_type": "stream",
     "text": [
      "epoch: 77/100, train_loss: 0.00000276, val_loss: 0.00000266\n"
     ]
    },
    {
     "name": "stderr",
     "output_type": "stream",
     "text": [
      "100%|████████████████████████████████████████████████████████████████████████████████| 232/232 [00:02<00:00, 89.97it/s]\n",
      "  4%|███▏                                                                              | 9/232 [00:00<00:02, 84.25it/s]"
     ]
    },
    {
     "name": "stdout",
     "output_type": "stream",
     "text": [
      "epoch: 78/100, train_loss: 0.00000274, val_loss: 0.00000268\n"
     ]
    },
    {
     "name": "stderr",
     "output_type": "stream",
     "text": [
      "100%|████████████████████████████████████████████████████████████████████████████████| 232/232 [00:02<00:00, 86.55it/s]\n",
      "  8%|██████▎                                                                          | 18/232 [00:00<00:02, 86.05it/s]"
     ]
    },
    {
     "name": "stdout",
     "output_type": "stream",
     "text": [
      "epoch: 79/100, train_loss: 0.00000272, val_loss: 0.00000263\n"
     ]
    },
    {
     "name": "stderr",
     "output_type": "stream",
     "text": [
      "100%|████████████████████████████████████████████████████████████████████████████████| 232/232 [00:02<00:00, 90.13it/s]\n",
      "  4%|███▏                                                                              | 9/232 [00:00<00:02, 83.67it/s]"
     ]
    },
    {
     "name": "stdout",
     "output_type": "stream",
     "text": [
      "epoch: 80/100, train_loss: 0.00000270, val_loss: 0.00000261\n"
     ]
    },
    {
     "name": "stderr",
     "output_type": "stream",
     "text": [
      "100%|████████████████████████████████████████████████████████████████████████████████| 232/232 [00:02<00:00, 89.94it/s]\n",
      "  8%|██████▎                                                                          | 18/232 [00:00<00:02, 87.38it/s]"
     ]
    },
    {
     "name": "stdout",
     "output_type": "stream",
     "text": [
      "epoch: 81/100, train_loss: 0.00000270, val_loss: 0.00000263\n"
     ]
    },
    {
     "name": "stderr",
     "output_type": "stream",
     "text": [
      "100%|████████████████████████████████████████████████████████████████████████████████| 232/232 [00:02<00:00, 90.94it/s]\n",
      "  4%|███▏                                                                              | 9/232 [00:00<00:02, 86.26it/s]"
     ]
    },
    {
     "name": "stdout",
     "output_type": "stream",
     "text": [
      "epoch: 82/100, train_loss: 0.00000267, val_loss: 0.00000256\n"
     ]
    },
    {
     "name": "stderr",
     "output_type": "stream",
     "text": [
      "100%|████████████████████████████████████████████████████████████████████████████████| 232/232 [00:02<00:00, 91.96it/s]\n",
      "  4%|███▏                                                                              | 9/232 [00:00<00:02, 88.58it/s]"
     ]
    },
    {
     "name": "stdout",
     "output_type": "stream",
     "text": [
      "epoch: 83/100, train_loss: 0.00000264, val_loss: 0.00000257\n"
     ]
    },
    {
     "name": "stderr",
     "output_type": "stream",
     "text": [
      "100%|████████████████████████████████████████████████████████████████████████████████| 232/232 [00:02<00:00, 90.01it/s]\n",
      "  4%|███▏                                                                              | 9/232 [00:00<00:02, 86.33it/s]"
     ]
    },
    {
     "name": "stdout",
     "output_type": "stream",
     "text": [
      "epoch: 84/100, train_loss: 0.00000266, val_loss: 0.00000256\n"
     ]
    },
    {
     "name": "stderr",
     "output_type": "stream",
     "text": [
      "100%|████████████████████████████████████████████████████████████████████████████████| 232/232 [00:02<00:00, 91.13it/s]\n",
      "  4%|███▏                                                                              | 9/232 [00:00<00:02, 89.02it/s]"
     ]
    },
    {
     "name": "stdout",
     "output_type": "stream",
     "text": [
      "epoch: 85/100, train_loss: 0.00000262, val_loss: 0.00000252\n"
     ]
    },
    {
     "name": "stderr",
     "output_type": "stream",
     "text": [
      "100%|████████████████████████████████████████████████████████████████████████████████| 232/232 [00:02<00:00, 89.83it/s]\n",
      "  4%|███▏                                                                              | 9/232 [00:00<00:02, 87.83it/s]"
     ]
    },
    {
     "name": "stdout",
     "output_type": "stream",
     "text": [
      "epoch: 86/100, train_loss: 0.00000259, val_loss: 0.00000250\n"
     ]
    },
    {
     "name": "stderr",
     "output_type": "stream",
     "text": [
      "100%|████████████████████████████████████████████████████████████████████████████████| 232/232 [00:02<00:00, 91.52it/s]\n",
      "  8%|██████▎                                                                          | 18/232 [00:00<00:02, 89.10it/s]"
     ]
    },
    {
     "name": "stdout",
     "output_type": "stream",
     "text": [
      "epoch: 87/100, train_loss: 0.00000257, val_loss: 0.00000249\n"
     ]
    },
    {
     "name": "stderr",
     "output_type": "stream",
     "text": [
      "100%|████████████████████████████████████████████████████████████████████████████████| 232/232 [00:02<00:00, 90.44it/s]\n",
      "  4%|███▏                                                                              | 9/232 [00:00<00:02, 87.59it/s]"
     ]
    },
    {
     "name": "stdout",
     "output_type": "stream",
     "text": [
      "epoch: 88/100, train_loss: 0.00000255, val_loss: 0.00000246\n"
     ]
    },
    {
     "name": "stderr",
     "output_type": "stream",
     "text": [
      "100%|████████████████████████████████████████████████████████████████████████████████| 232/232 [00:02<00:00, 90.58it/s]\n",
      "  4%|███▏                                                                              | 9/232 [00:00<00:02, 85.22it/s]"
     ]
    },
    {
     "name": "stdout",
     "output_type": "stream",
     "text": [
      "epoch: 89/100, train_loss: 0.00000254, val_loss: 0.00000245\n"
     ]
    },
    {
     "name": "stderr",
     "output_type": "stream",
     "text": [
      "100%|████████████████████████████████████████████████████████████████████████████████| 232/232 [00:02<00:00, 89.34it/s]\n",
      "  4%|███▏                                                                              | 9/232 [00:00<00:02, 83.28it/s]"
     ]
    },
    {
     "name": "stdout",
     "output_type": "stream",
     "text": [
      "epoch: 90/100, train_loss: 0.00000251, val_loss: 0.00000246\n"
     ]
    },
    {
     "name": "stderr",
     "output_type": "stream",
     "text": [
      "100%|████████████████████████████████████████████████████████████████████████████████| 232/232 [00:02<00:00, 89.58it/s]\n",
      "  4%|███▏                                                                              | 9/232 [00:00<00:02, 86.46it/s]"
     ]
    },
    {
     "name": "stdout",
     "output_type": "stream",
     "text": [
      "epoch: 91/100, train_loss: 0.00000250, val_loss: 0.00000242\n"
     ]
    },
    {
     "name": "stderr",
     "output_type": "stream",
     "text": [
      "100%|████████████████████████████████████████████████████████████████████████████████| 232/232 [00:02<00:00, 91.73it/s]\n",
      "  4%|███▏                                                                              | 9/232 [00:00<00:02, 88.74it/s]"
     ]
    },
    {
     "name": "stdout",
     "output_type": "stream",
     "text": [
      "epoch: 92/100, train_loss: 0.00000249, val_loss: 0.00000241\n"
     ]
    },
    {
     "name": "stderr",
     "output_type": "stream",
     "text": [
      "100%|████████████████████████████████████████████████████████████████████████████████| 232/232 [00:02<00:00, 90.07it/s]\n",
      "  4%|███▏                                                                              | 9/232 [00:00<00:02, 86.52it/s]"
     ]
    },
    {
     "name": "stdout",
     "output_type": "stream",
     "text": [
      "epoch: 93/100, train_loss: 0.00000247, val_loss: 0.00000244\n"
     ]
    },
    {
     "name": "stderr",
     "output_type": "stream",
     "text": [
      "100%|████████████████████████████████████████████████████████████████████████████████| 232/232 [00:02<00:00, 91.18it/s]\n",
      "  4%|███▏                                                                              | 9/232 [00:00<00:02, 86.45it/s]"
     ]
    },
    {
     "name": "stdout",
     "output_type": "stream",
     "text": [
      "epoch: 94/100, train_loss: 0.00000246, val_loss: 0.00000237\n"
     ]
    },
    {
     "name": "stderr",
     "output_type": "stream",
     "text": [
      "100%|████████████████████████████████████████████████████████████████████████████████| 232/232 [00:02<00:00, 90.09it/s]\n",
      "  4%|███▏                                                                              | 9/232 [00:00<00:02, 86.83it/s]"
     ]
    },
    {
     "name": "stdout",
     "output_type": "stream",
     "text": [
      "epoch: 95/100, train_loss: 0.00000243, val_loss: 0.00000235\n"
     ]
    },
    {
     "name": "stderr",
     "output_type": "stream",
     "text": [
      "100%|████████████████████████████████████████████████████████████████████████████████| 232/232 [00:02<00:00, 91.70it/s]\n",
      "  4%|███▍                                                                             | 10/232 [00:00<00:02, 91.73it/s]"
     ]
    },
    {
     "name": "stdout",
     "output_type": "stream",
     "text": [
      "epoch: 96/100, train_loss: 0.00000241, val_loss: 0.00000242\n"
     ]
    },
    {
     "name": "stderr",
     "output_type": "stream",
     "text": [
      "100%|████████████████████████████████████████████████████████████████████████████████| 232/232 [00:02<00:00, 91.74it/s]\n",
      "  8%|██████▋                                                                          | 19/232 [00:00<00:02, 91.32it/s]"
     ]
    },
    {
     "name": "stdout",
     "output_type": "stream",
     "text": [
      "epoch: 97/100, train_loss: 0.00000240, val_loss: 0.00000231\n"
     ]
    },
    {
     "name": "stderr",
     "output_type": "stream",
     "text": [
      "100%|████████████████████████████████████████████████████████████████████████████████| 232/232 [00:02<00:00, 91.45it/s]\n",
      "  4%|███▏                                                                              | 9/232 [00:00<00:02, 86.92it/s]"
     ]
    },
    {
     "name": "stdout",
     "output_type": "stream",
     "text": [
      "epoch: 98/100, train_loss: 0.00000238, val_loss: 0.00000236\n"
     ]
    },
    {
     "name": "stderr",
     "output_type": "stream",
     "text": [
      "100%|████████████████████████████████████████████████████████████████████████████████| 232/232 [00:02<00:00, 91.39it/s]\n",
      "  4%|███▏                                                                              | 9/232 [00:00<00:02, 85.84it/s]"
     ]
    },
    {
     "name": "stdout",
     "output_type": "stream",
     "text": [
      "epoch: 99/100, train_loss: 0.00000235, val_loss: 0.00000229\n"
     ]
    },
    {
     "name": "stderr",
     "output_type": "stream",
     "text": [
      "100%|████████████████████████████████████████████████████████████████████████████████| 232/232 [00:02<00:00, 89.68it/s]"
     ]
    },
    {
     "name": "stdout",
     "output_type": "stream",
     "text": [
      "epoch: 100/100, train_loss: 0.00000235, val_loss: 0.00000229\n",
      "best mse : 0.00000229\n"
     ]
    },
    {
     "name": "stderr",
     "output_type": "stream",
     "text": [
      "\n"
     ]
    }
   ],
   "source": [
    "MSE = nn.MSELoss(reduction = 'mean')\n",
    "trainer = Trainer(model, train_loader, val_loader, criterion = MSE, optimizer = Adam,\n",
    "                  epochs = 100, lr = 0.00001, device = device)\n",
    "trainer.fit()"
   ]
  },
  {
   "cell_type": "code",
   "execution_count": 9,
   "metadata": {},
   "outputs": [
    {
     "data": {
      "image/png": "[encoded data removed]",
      "text/plain": [
       "<Figure size 432x288 with 1 Axes>"
      ]
     },
     "metadata": {
      "needs_background": "light"
     },
     "output_type": "display_data"
    }
   ],
   "source": [
    "import matplotlib.pyplot as plt\n",
    "%matplotlib inline\n",
    "\n",
    "history = trainer.history()\n",
    "\n",
    "plt.plot(history['train_loss'][10:])\n",
    "plt.plot(history['val_loss'][10:])\n",
    "plt.title('Train and Validation loss')\n",
    "plt.show()"
   ]
  },
  {
   "cell_type": "markdown",
   "metadata": {},
   "source": [
    "## Evaluation"
   ]
  },
  {
   "cell_type": "code",
   "execution_count": 10,
   "metadata": {},
   "outputs": [
    {
     "name": "stdout",
     "output_type": "stream",
     "text": [
      "mse : 1.2540418765638606e-06\n"
     ]
    }
   ],
   "source": [
    "trainer.evaluation(test_loader, device)"
   ]
  },
  {
   "cell_type": "markdown",
   "metadata": {},
   "source": [
    "## model save"
   ]
  },
  {
   "cell_type": "code",
   "execution_count": 11,
   "metadata": {},
   "outputs": [],
   "source": [
    "model = trainer.get_best_model()\n",
    "model.to('cpu')\n",
    "torch.save(model.state_dict(), 'model.pt')"
   ]
  },
  {
   "cell_type": "code",
   "execution_count": null,
   "metadata": {},
   "outputs": [],
   "source": []
  },
  {
   "cell_type": "code",
   "execution_count": null,
   "metadata": {},
   "outputs": [],
   "source": []
  }
 ],
 "metadata": {
  "kernelspec": {
   "display_name": "PyTorch",
   "language": "python",
   "name": "pytorch"
  },
  "language_info": {
   "codemirror_mode": {
    "name": "ipython",
    "version": 3
   },
   "file_extension": ".py",
   "mimetype": "text/x-python",
   "name": "python",
   "nbconvert_exporter": "python",
   "pygments_lexer": "ipython3",
   "version": "3.7.10"
  }
 },
 "nbformat": 4,
 "nbformat_minor": 4
}
